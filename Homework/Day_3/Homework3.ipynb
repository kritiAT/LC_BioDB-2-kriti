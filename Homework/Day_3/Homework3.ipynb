{
 "cells": [
  {
   "cell_type": "markdown",
   "id": "5725ab11",
   "metadata": {
    "slideshow": {
     "slide_type": "slide"
    }
   },
   "source": [
    "\n",
    "# Homework 3 - Pandas and SQL\n",
    "\n",
    "16.03.2022\n",
    "\n",
    "Kriti Amin"
   ]
  },
  {
   "cell_type": "markdown",
   "id": "49441d52",
   "metadata": {
    "slideshow": {
     "slide_type": "slide"
    }
   },
   "source": [
    "# Pfam database\n",
    "\n",
    "- Collection of protein domain families\n",
    "- Clans of related protein families\n",
    "- Contains 3 tables\n",
    " - clan\n",
    " - family\n",
    " - protein\n",
    "\n",
    "- Documentation - https://pfam-docs.readthedocs.io/en/latest/index.html\n",
    "\n",
    "*Note:* This is sample database created for the purpose of the exercise."
   ]
  },
  {
   "cell_type": "markdown",
   "id": "7dfe7c86",
   "metadata": {
    "slideshow": {
     "slide_type": "slide"
    }
   },
   "source": [
    "## Load database"
   ]
  },
  {
   "cell_type": "code",
   "execution_count": 5,
   "id": "20a3920a",
   "metadata": {
    "slideshow": {
     "slide_type": "subslide"
    }
   },
   "outputs": [],
   "source": [
    "# connect to database\n",
    "connection = 'sqlite:///pfam.db'"
   ]
  },
  {
   "cell_type": "code",
   "execution_count": 6,
   "id": "65c9d68c",
   "metadata": {
    "slideshow": {
     "slide_type": "subslide"
    }
   },
   "outputs": [
    {
     "name": "stdout",
     "output_type": "stream",
     "text": [
      "The sql extension is already loaded. To reload it, use:\n",
      "  %reload_ext sql\n"
     ]
    }
   ],
   "source": [
    "%load_ext sql\n",
    "%sql sqlite:///pfam.db"
   ]
  },
  {
   "cell_type": "markdown",
   "id": "32fd86a4",
   "metadata": {
    "slideshow": {
     "slide_type": "slide"
    }
   },
   "source": [
    "# Query tables with pandas from database\n",
    "\n",
    "- Clan\n",
    "- Family\n",
    "- Protein"
   ]
  },
  {
   "cell_type": "code",
   "execution_count": 7,
   "id": "a29b9065",
   "metadata": {
    "slideshow": {
     "slide_type": "subslide"
    }
   },
   "outputs": [],
   "source": [
    "import pandas as pd"
   ]
  },
  {
   "cell_type": "code",
   "execution_count": 8,
   "id": "25900f67",
   "metadata": {},
   "outputs": [],
   "source": [
    "clan = pd.read_sql('clan', connection)\n",
    "family = pd.read_sql('family', connection)\n",
    "protein = pd.read_sql('protein', connection)"
   ]
  },
  {
   "cell_type": "code",
   "execution_count": 9,
   "id": "7aacabd3",
   "metadata": {},
   "outputs": [],
   "source": [
    "for table in [clan, family, protein]:\n",
    "    if 'index' in table.columns:\n",
    "        table.drop(columns='index', inplace=True)"
   ]
  },
  {
   "cell_type": "markdown",
   "id": "f6151d48",
   "metadata": {
    "slideshow": {
     "slide_type": "slide"
    }
   },
   "source": [
    "# Table: Clan\n",
    "\n",
    "- contains list of families in the clan"
   ]
  },
  {
   "cell_type": "code",
   "execution_count": 10,
   "id": "d0de0aa9",
   "metadata": {
    "slideshow": {
     "slide_type": "subslide"
    }
   },
   "outputs": [
    {
     "data": {
      "text/html": [
       "<div>\n",
       "<style scoped>\n",
       "    .dataframe tbody tr th:only-of-type {\n",
       "        vertical-align: middle;\n",
       "    }\n",
       "\n",
       "    .dataframe tbody tr th {\n",
       "        vertical-align: top;\n",
       "    }\n",
       "\n",
       "    .dataframe thead th {\n",
       "        text-align: right;\n",
       "    }\n",
       "</style>\n",
       "<table border=\"1\" class=\"dataframe\">\n",
       "  <thead>\n",
       "    <tr style=\"text-align: right;\">\n",
       "      <th></th>\n",
       "      <th>id</th>\n",
       "      <th>accession</th>\n",
       "      <th>description</th>\n",
       "      <th>families</th>\n",
       "    </tr>\n",
       "  </thead>\n",
       "  <tbody>\n",
       "    <tr>\n",
       "      <th>0</th>\n",
       "      <td>KA1-like</td>\n",
       "      <td>CL0573</td>\n",
       "      <td>Kinase associated domain 1-like</td>\n",
       "      <td>AdenylateSensor,KA1,NAF,NAM-associated</td>\n",
       "    </tr>\n",
       "    <tr>\n",
       "      <th>1</th>\n",
       "      <td>Keratin_assoc</td>\n",
       "      <td>CL0520</td>\n",
       "      <td>Keratin_associated superfamily</td>\n",
       "      <td>Keratin_B2,Keratin_B2_2,PMG</td>\n",
       "    </tr>\n",
       "    <tr>\n",
       "      <th>2</th>\n",
       "      <td>Tubulin</td>\n",
       "      <td>CL0566</td>\n",
       "      <td>Tubulin nucleotide-binding domain-like, GTPase</td>\n",
       "      <td>Misat_Tub_SegII,Tubulin,Tubulin_2,Tubulin_3</td>\n",
       "    </tr>\n",
       "  </tbody>\n",
       "</table>\n",
       "</div>"
      ],
      "text/plain": [
       "              id accession                                     description  \\\n",
       "0       KA1-like    CL0573                 Kinase associated domain 1-like   \n",
       "1  Keratin_assoc    CL0520                  Keratin_associated superfamily   \n",
       "2        Tubulin    CL0566  Tubulin nucleotide-binding domain-like, GTPase   \n",
       "\n",
       "                                      families  \n",
       "0       AdenylateSensor,KA1,NAF,NAM-associated  \n",
       "1                  Keratin_B2,Keratin_B2_2,PMG  \n",
       "2  Misat_Tub_SegII,Tubulin,Tubulin_2,Tubulin_3  "
      ]
     },
     "execution_count": 10,
     "metadata": {},
     "output_type": "execute_result"
    }
   ],
   "source": [
    "clan"
   ]
  },
  {
   "cell_type": "markdown",
   "id": "6e8429ae",
   "metadata": {
    "slideshow": {
     "slide_type": "slide"
    }
   },
   "source": [
    "### Split list of family ids from clan"
   ]
  },
  {
   "cell_type": "code",
   "execution_count": 11,
   "id": "9df676cf",
   "metadata": {
    "slideshow": {
     "slide_type": "subslide"
    }
   },
   "outputs": [
    {
     "data": {
      "text/html": [
       "<div>\n",
       "<style scoped>\n",
       "    .dataframe tbody tr th:only-of-type {\n",
       "        vertical-align: middle;\n",
       "    }\n",
       "\n",
       "    .dataframe tbody tr th {\n",
       "        vertical-align: top;\n",
       "    }\n",
       "\n",
       "    .dataframe thead th {\n",
       "        text-align: right;\n",
       "    }\n",
       "</style>\n",
       "<table border=\"1\" class=\"dataframe\">\n",
       "  <thead>\n",
       "    <tr style=\"text-align: right;\">\n",
       "      <th></th>\n",
       "      <th>id</th>\n",
       "      <th>accession</th>\n",
       "      <th>description</th>\n",
       "      <th>family_id</th>\n",
       "    </tr>\n",
       "  </thead>\n",
       "  <tbody>\n",
       "    <tr>\n",
       "      <th>0</th>\n",
       "      <td>KA1-like</td>\n",
       "      <td>CL0573</td>\n",
       "      <td>Kinase associated domain 1-like</td>\n",
       "      <td>[AdenylateSensor, KA1, NAF, NAM-associated]</td>\n",
       "    </tr>\n",
       "    <tr>\n",
       "      <th>1</th>\n",
       "      <td>Keratin_assoc</td>\n",
       "      <td>CL0520</td>\n",
       "      <td>Keratin_associated superfamily</td>\n",
       "      <td>[Keratin_B2, Keratin_B2_2, PMG]</td>\n",
       "    </tr>\n",
       "    <tr>\n",
       "      <th>2</th>\n",
       "      <td>Tubulin</td>\n",
       "      <td>CL0566</td>\n",
       "      <td>Tubulin nucleotide-binding domain-like, GTPase</td>\n",
       "      <td>[Misat_Tub_SegII, Tubulin, Tubulin_2, Tubulin_3]</td>\n",
       "    </tr>\n",
       "  </tbody>\n",
       "</table>\n",
       "</div>"
      ],
      "text/plain": [
       "              id accession                                     description  \\\n",
       "0       KA1-like    CL0573                 Kinase associated domain 1-like   \n",
       "1  Keratin_assoc    CL0520                  Keratin_associated superfamily   \n",
       "2        Tubulin    CL0566  Tubulin nucleotide-binding domain-like, GTPase   \n",
       "\n",
       "                                          family_id  \n",
       "0       [AdenylateSensor, KA1, NAF, NAM-associated]  \n",
       "1                   [Keratin_B2, Keratin_B2_2, PMG]  \n",
       "2  [Misat_Tub_SegII, Tubulin, Tubulin_2, Tubulin_3]  "
      ]
     },
     "execution_count": 11,
     "metadata": {},
     "output_type": "execute_result"
    }
   ],
   "source": [
    "clan['family_id'] = clan['families'].apply(lambda x: x.split(','))\n",
    "clan.drop(columns='families', inplace=True)\n",
    "clan"
   ]
  },
  {
   "cell_type": "markdown",
   "id": "1492e7fe",
   "metadata": {
    "slideshow": {
     "slide_type": "slide"
    }
   },
   "source": [
    "### Explode the list of family ids"
   ]
  },
  {
   "cell_type": "code",
   "execution_count": 12,
   "id": "9ceacb9b",
   "metadata": {
    "slideshow": {
     "slide_type": "subslide"
    }
   },
   "outputs": [
    {
     "data": {
      "text/html": [
       "<div>\n",
       "<style scoped>\n",
       "    .dataframe tbody tr th:only-of-type {\n",
       "        vertical-align: middle;\n",
       "    }\n",
       "\n",
       "    .dataframe tbody tr th {\n",
       "        vertical-align: top;\n",
       "    }\n",
       "\n",
       "    .dataframe thead th {\n",
       "        text-align: right;\n",
       "    }\n",
       "</style>\n",
       "<table border=\"1\" class=\"dataframe\">\n",
       "  <thead>\n",
       "    <tr style=\"text-align: right;\">\n",
       "      <th></th>\n",
       "      <th>id</th>\n",
       "      <th>accession</th>\n",
       "      <th>description</th>\n",
       "      <th>family_id</th>\n",
       "    </tr>\n",
       "  </thead>\n",
       "  <tbody>\n",
       "    <tr>\n",
       "      <th>0</th>\n",
       "      <td>KA1-like</td>\n",
       "      <td>CL0573</td>\n",
       "      <td>Kinase associated domain 1-like</td>\n",
       "      <td>AdenylateSensor</td>\n",
       "    </tr>\n",
       "    <tr>\n",
       "      <th>0</th>\n",
       "      <td>KA1-like</td>\n",
       "      <td>CL0573</td>\n",
       "      <td>Kinase associated domain 1-like</td>\n",
       "      <td>KA1</td>\n",
       "    </tr>\n",
       "    <tr>\n",
       "      <th>0</th>\n",
       "      <td>KA1-like</td>\n",
       "      <td>CL0573</td>\n",
       "      <td>Kinase associated domain 1-like</td>\n",
       "      <td>NAF</td>\n",
       "    </tr>\n",
       "    <tr>\n",
       "      <th>0</th>\n",
       "      <td>KA1-like</td>\n",
       "      <td>CL0573</td>\n",
       "      <td>Kinase associated domain 1-like</td>\n",
       "      <td>NAM-associated</td>\n",
       "    </tr>\n",
       "    <tr>\n",
       "      <th>1</th>\n",
       "      <td>Keratin_assoc</td>\n",
       "      <td>CL0520</td>\n",
       "      <td>Keratin_associated superfamily</td>\n",
       "      <td>Keratin_B2</td>\n",
       "    </tr>\n",
       "    <tr>\n",
       "      <th>1</th>\n",
       "      <td>Keratin_assoc</td>\n",
       "      <td>CL0520</td>\n",
       "      <td>Keratin_associated superfamily</td>\n",
       "      <td>Keratin_B2_2</td>\n",
       "    </tr>\n",
       "    <tr>\n",
       "      <th>1</th>\n",
       "      <td>Keratin_assoc</td>\n",
       "      <td>CL0520</td>\n",
       "      <td>Keratin_associated superfamily</td>\n",
       "      <td>PMG</td>\n",
       "    </tr>\n",
       "    <tr>\n",
       "      <th>2</th>\n",
       "      <td>Tubulin</td>\n",
       "      <td>CL0566</td>\n",
       "      <td>Tubulin nucleotide-binding domain-like, GTPase</td>\n",
       "      <td>Misat_Tub_SegII</td>\n",
       "    </tr>\n",
       "    <tr>\n",
       "      <th>2</th>\n",
       "      <td>Tubulin</td>\n",
       "      <td>CL0566</td>\n",
       "      <td>Tubulin nucleotide-binding domain-like, GTPase</td>\n",
       "      <td>Tubulin</td>\n",
       "    </tr>\n",
       "    <tr>\n",
       "      <th>2</th>\n",
       "      <td>Tubulin</td>\n",
       "      <td>CL0566</td>\n",
       "      <td>Tubulin nucleotide-binding domain-like, GTPase</td>\n",
       "      <td>Tubulin_2</td>\n",
       "    </tr>\n",
       "    <tr>\n",
       "      <th>2</th>\n",
       "      <td>Tubulin</td>\n",
       "      <td>CL0566</td>\n",
       "      <td>Tubulin nucleotide-binding domain-like, GTPase</td>\n",
       "      <td>Tubulin_3</td>\n",
       "    </tr>\n",
       "  </tbody>\n",
       "</table>\n",
       "</div>"
      ],
      "text/plain": [
       "              id accession                                     description  \\\n",
       "0       KA1-like    CL0573                 Kinase associated domain 1-like   \n",
       "0       KA1-like    CL0573                 Kinase associated domain 1-like   \n",
       "0       KA1-like    CL0573                 Kinase associated domain 1-like   \n",
       "0       KA1-like    CL0573                 Kinase associated domain 1-like   \n",
       "1  Keratin_assoc    CL0520                  Keratin_associated superfamily   \n",
       "1  Keratin_assoc    CL0520                  Keratin_associated superfamily   \n",
       "1  Keratin_assoc    CL0520                  Keratin_associated superfamily   \n",
       "2        Tubulin    CL0566  Tubulin nucleotide-binding domain-like, GTPase   \n",
       "2        Tubulin    CL0566  Tubulin nucleotide-binding domain-like, GTPase   \n",
       "2        Tubulin    CL0566  Tubulin nucleotide-binding domain-like, GTPase   \n",
       "2        Tubulin    CL0566  Tubulin nucleotide-binding domain-like, GTPase   \n",
       "\n",
       "         family_id  \n",
       "0  AdenylateSensor  \n",
       "0              KA1  \n",
       "0              NAF  \n",
       "0   NAM-associated  \n",
       "1       Keratin_B2  \n",
       "1     Keratin_B2_2  \n",
       "1              PMG  \n",
       "2  Misat_Tub_SegII  \n",
       "2          Tubulin  \n",
       "2        Tubulin_2  \n",
       "2        Tubulin_3  "
      ]
     },
     "execution_count": 12,
     "metadata": {},
     "output_type": "execute_result"
    }
   ],
   "source": [
    "clan_split = clan.explode(column='family_id')\n",
    "clan_split"
   ]
  },
  {
   "cell_type": "markdown",
   "id": "aaf37e8c",
   "metadata": {
    "slideshow": {
     "slide_type": "slide"
    }
   },
   "source": [
    "# Map clan to family \n",
    "\n",
    "- List of family ids mapped to  family accession id in family table"
   ]
  },
  {
   "cell_type": "code",
   "execution_count": 13,
   "id": "b78fc89a",
   "metadata": {
    "slideshow": {
     "slide_type": "subslide"
    }
   },
   "outputs": [
    {
     "data": {
      "text/html": [
       "<div>\n",
       "<style scoped>\n",
       "    .dataframe tbody tr th:only-of-type {\n",
       "        vertical-align: middle;\n",
       "    }\n",
       "\n",
       "    .dataframe tbody tr th {\n",
       "        vertical-align: top;\n",
       "    }\n",
       "\n",
       "    .dataframe thead th {\n",
       "        text-align: right;\n",
       "    }\n",
       "</style>\n",
       "<table border=\"1\" class=\"dataframe\">\n",
       "  <thead>\n",
       "    <tr style=\"text-align: right;\">\n",
       "      <th></th>\n",
       "      <th>id</th>\n",
       "      <th>accession</th>\n",
       "    </tr>\n",
       "  </thead>\n",
       "  <tbody>\n",
       "    <tr>\n",
       "      <th>0</th>\n",
       "      <td>Tubulin</td>\n",
       "      <td>PF00091</td>\n",
       "    </tr>\n",
       "    <tr>\n",
       "      <th>1</th>\n",
       "      <td>Tubulin_2</td>\n",
       "      <td>PF13809</td>\n",
       "    </tr>\n",
       "    <tr>\n",
       "      <th>2</th>\n",
       "      <td>Misat_Tub_SegII</td>\n",
       "      <td>PF10644</td>\n",
       "    </tr>\n",
       "    <tr>\n",
       "      <th>3</th>\n",
       "      <td>KA1</td>\n",
       "      <td>PF02149</td>\n",
       "    </tr>\n",
       "    <tr>\n",
       "      <th>4</th>\n",
       "      <td>AdenylateSensor</td>\n",
       "      <td>PF16579</td>\n",
       "    </tr>\n",
       "    <tr>\n",
       "      <th>5</th>\n",
       "      <td>Keratin_B2</td>\n",
       "      <td>PF01500</td>\n",
       "    </tr>\n",
       "    <tr>\n",
       "      <th>6</th>\n",
       "      <td>PMG</td>\n",
       "      <td>PF05287</td>\n",
       "    </tr>\n",
       "    <tr>\n",
       "      <th>7</th>\n",
       "      <td>Keratin_B2_2</td>\n",
       "      <td>PF13885</td>\n",
       "    </tr>\n",
       "    <tr>\n",
       "      <th>8</th>\n",
       "      <td>Tubulin_3</td>\n",
       "      <td>PF14881</td>\n",
       "    </tr>\n",
       "  </tbody>\n",
       "</table>\n",
       "</div>"
      ],
      "text/plain": [
       "                id accession\n",
       "0          Tubulin   PF00091\n",
       "1        Tubulin_2   PF13809\n",
       "2  Misat_Tub_SegII   PF10644\n",
       "3              KA1   PF02149\n",
       "4  AdenylateSensor   PF16579\n",
       "5       Keratin_B2   PF01500\n",
       "6              PMG   PF05287\n",
       "7     Keratin_B2_2   PF13885\n",
       "8        Tubulin_3   PF14881"
      ]
     },
     "execution_count": 13,
     "metadata": {},
     "output_type": "execute_result"
    }
   ],
   "source": [
    "family"
   ]
  },
  {
   "cell_type": "markdown",
   "id": "8ae4f56b",
   "metadata": {
    "slideshow": {
     "slide_type": "slide"
    }
   },
   "source": [
    "### Join clan and family table through family id"
   ]
  },
  {
   "cell_type": "code",
   "execution_count": 14,
   "id": "835e3dc2",
   "metadata": {
    "slideshow": {
     "slide_type": "subslide"
    }
   },
   "outputs": [
    {
     "data": {
      "text/html": [
       "<div>\n",
       "<style scoped>\n",
       "    .dataframe tbody tr th:only-of-type {\n",
       "        vertical-align: middle;\n",
       "    }\n",
       "\n",
       "    .dataframe tbody tr th {\n",
       "        vertical-align: top;\n",
       "    }\n",
       "\n",
       "    .dataframe thead th {\n",
       "        text-align: right;\n",
       "    }\n",
       "</style>\n",
       "<table border=\"1\" class=\"dataframe\">\n",
       "  <thead>\n",
       "    <tr style=\"text-align: right;\">\n",
       "      <th></th>\n",
       "      <th>id</th>\n",
       "      <th>accession_clan</th>\n",
       "      <th>description</th>\n",
       "      <th>accession_family</th>\n",
       "    </tr>\n",
       "  </thead>\n",
       "  <tbody>\n",
       "    <tr>\n",
       "      <th>AdenylateSensor</th>\n",
       "      <td>KA1-like</td>\n",
       "      <td>CL0573</td>\n",
       "      <td>Kinase associated domain 1-like</td>\n",
       "      <td>PF16579</td>\n",
       "    </tr>\n",
       "    <tr>\n",
       "      <th>KA1</th>\n",
       "      <td>KA1-like</td>\n",
       "      <td>CL0573</td>\n",
       "      <td>Kinase associated domain 1-like</td>\n",
       "      <td>PF02149</td>\n",
       "    </tr>\n",
       "    <tr>\n",
       "      <th>Keratin_B2</th>\n",
       "      <td>Keratin_assoc</td>\n",
       "      <td>CL0520</td>\n",
       "      <td>Keratin_associated superfamily</td>\n",
       "      <td>PF01500</td>\n",
       "    </tr>\n",
       "    <tr>\n",
       "      <th>Keratin_B2_2</th>\n",
       "      <td>Keratin_assoc</td>\n",
       "      <td>CL0520</td>\n",
       "      <td>Keratin_associated superfamily</td>\n",
       "      <td>PF13885</td>\n",
       "    </tr>\n",
       "    <tr>\n",
       "      <th>PMG</th>\n",
       "      <td>Keratin_assoc</td>\n",
       "      <td>CL0520</td>\n",
       "      <td>Keratin_associated superfamily</td>\n",
       "      <td>PF05287</td>\n",
       "    </tr>\n",
       "    <tr>\n",
       "      <th>Misat_Tub_SegII</th>\n",
       "      <td>Tubulin</td>\n",
       "      <td>CL0566</td>\n",
       "      <td>Tubulin nucleotide-binding domain-like, GTPase</td>\n",
       "      <td>PF10644</td>\n",
       "    </tr>\n",
       "    <tr>\n",
       "      <th>Tubulin</th>\n",
       "      <td>Tubulin</td>\n",
       "      <td>CL0566</td>\n",
       "      <td>Tubulin nucleotide-binding domain-like, GTPase</td>\n",
       "      <td>PF00091</td>\n",
       "    </tr>\n",
       "    <tr>\n",
       "      <th>Tubulin_2</th>\n",
       "      <td>Tubulin</td>\n",
       "      <td>CL0566</td>\n",
       "      <td>Tubulin nucleotide-binding domain-like, GTPase</td>\n",
       "      <td>PF13809</td>\n",
       "    </tr>\n",
       "    <tr>\n",
       "      <th>Tubulin_3</th>\n",
       "      <td>Tubulin</td>\n",
       "      <td>CL0566</td>\n",
       "      <td>Tubulin nucleotide-binding domain-like, GTPase</td>\n",
       "      <td>PF14881</td>\n",
       "    </tr>\n",
       "  </tbody>\n",
       "</table>\n",
       "</div>"
      ],
      "text/plain": [
       "                            id accession_clan  \\\n",
       "AdenylateSensor       KA1-like         CL0573   \n",
       "KA1                   KA1-like         CL0573   \n",
       "Keratin_B2       Keratin_assoc         CL0520   \n",
       "Keratin_B2_2     Keratin_assoc         CL0520   \n",
       "PMG              Keratin_assoc         CL0520   \n",
       "Misat_Tub_SegII        Tubulin         CL0566   \n",
       "Tubulin                Tubulin         CL0566   \n",
       "Tubulin_2              Tubulin         CL0566   \n",
       "Tubulin_3              Tubulin         CL0566   \n",
       "\n",
       "                                                    description  \\\n",
       "AdenylateSensor                 Kinase associated domain 1-like   \n",
       "KA1                             Kinase associated domain 1-like   \n",
       "Keratin_B2                       Keratin_associated superfamily   \n",
       "Keratin_B2_2                     Keratin_associated superfamily   \n",
       "PMG                              Keratin_associated superfamily   \n",
       "Misat_Tub_SegII  Tubulin nucleotide-binding domain-like, GTPase   \n",
       "Tubulin          Tubulin nucleotide-binding domain-like, GTPase   \n",
       "Tubulin_2        Tubulin nucleotide-binding domain-like, GTPase   \n",
       "Tubulin_3        Tubulin nucleotide-binding domain-like, GTPase   \n",
       "\n",
       "                accession_family  \n",
       "AdenylateSensor          PF16579  \n",
       "KA1                      PF02149  \n",
       "Keratin_B2               PF01500  \n",
       "Keratin_B2_2             PF13885  \n",
       "PMG                      PF05287  \n",
       "Misat_Tub_SegII          PF10644  \n",
       "Tubulin                  PF00091  \n",
       "Tubulin_2                PF13809  \n",
       "Tubulin_3                PF14881  "
      ]
     },
     "execution_count": 14,
     "metadata": {},
     "output_type": "execute_result"
    }
   ],
   "source": [
    "clan_family = clan_split.set_index('family_id').join(family.set_index('id'), how='inner', lsuffix='_clan', rsuffix='_family')\n",
    "clan_family"
   ]
  },
  {
   "cell_type": "markdown",
   "id": "40704274",
   "metadata": {
    "slideshow": {
     "slide_type": "slide"
    }
   },
   "source": [
    "# Protein and clan\n",
    "\n",
    "- Map protein entires from database to clan"
   ]
  },
  {
   "cell_type": "code",
   "execution_count": 15,
   "id": "abd2cd1f",
   "metadata": {
    "slideshow": {
     "slide_type": "subslide"
    }
   },
   "outputs": [
    {
     "data": {
      "text/html": [
       "<div>\n",
       "<style scoped>\n",
       "    .dataframe tbody tr th:only-of-type {\n",
       "        vertical-align: middle;\n",
       "    }\n",
       "\n",
       "    .dataframe tbody tr th {\n",
       "        vertical-align: top;\n",
       "    }\n",
       "\n",
       "    .dataframe thead th {\n",
       "        text-align: right;\n",
       "    }\n",
       "</style>\n",
       "<table border=\"1\" class=\"dataframe\">\n",
       "  <thead>\n",
       "    <tr style=\"text-align: right;\">\n",
       "      <th></th>\n",
       "      <th>id</th>\n",
       "      <th>accession</th>\n",
       "      <th>description</th>\n",
       "      <th>taxid</th>\n",
       "      <th>family_accession</th>\n",
       "    </tr>\n",
       "  </thead>\n",
       "  <tbody>\n",
       "    <tr>\n",
       "      <th>0</th>\n",
       "      <td>X6P775_RETFI</td>\n",
       "      <td>X6P775</td>\n",
       "      <td>Tubulin alpha chain</td>\n",
       "      <td>46433</td>\n",
       "      <td>PF00091</td>\n",
       "    </tr>\n",
       "    <tr>\n",
       "      <th>1</th>\n",
       "      <td>W6XY45_COCCA</td>\n",
       "      <td>W6XY45</td>\n",
       "      <td>Gamma-tubulin</td>\n",
       "      <td>930089</td>\n",
       "      <td>PF00091</td>\n",
       "    </tr>\n",
       "    <tr>\n",
       "      <th>2</th>\n",
       "      <td>B7KI31_GLOC7</td>\n",
       "      <td>B7KI31</td>\n",
       "      <td>zinc_ribbon_2 domain-containing protein</td>\n",
       "      <td>65393</td>\n",
       "      <td>PF13809</td>\n",
       "    </tr>\n",
       "    <tr>\n",
       "      <th>3</th>\n",
       "      <td>V4L4I8_9GAMM</td>\n",
       "      <td>V4L4I8</td>\n",
       "      <td>VWFA domain-containing protein</td>\n",
       "      <td>1385625</td>\n",
       "      <td>PF13809</td>\n",
       "    </tr>\n",
       "    <tr>\n",
       "      <th>4</th>\n",
       "      <td>R9AA50_WALI9</td>\n",
       "      <td>R9AA50</td>\n",
       "      <td>Fumarate hydratase</td>\n",
       "      <td>1299270</td>\n",
       "      <td>PF10644</td>\n",
       "    </tr>\n",
       "    <tr>\n",
       "      <th>5</th>\n",
       "      <td>A0A556U8F7_BAGYA</td>\n",
       "      <td>A0A556U8F7</td>\n",
       "      <td>Maternal embryonic leucine zipper kinase</td>\n",
       "      <td>175774</td>\n",
       "      <td>PF02149</td>\n",
       "    </tr>\n",
       "    <tr>\n",
       "      <th>6</th>\n",
       "      <td>Q6RXY1_MAIZEQ6RXY1</td>\n",
       "      <td>Q6RXY1</td>\n",
       "      <td>Non-specific serine/threonine protein kinase</td>\n",
       "      <td>4577</td>\n",
       "      <td>PF02149</td>\n",
       "    </tr>\n",
       "    <tr>\n",
       "      <th>7</th>\n",
       "      <td>T1KCF8_TETURT1KCF8</td>\n",
       "      <td>T1KCF8</td>\n",
       "      <td>Protein kinase domain-containing protein</td>\n",
       "      <td>32264</td>\n",
       "      <td>PF16579</td>\n",
       "    </tr>\n",
       "    <tr>\n",
       "      <th>8</th>\n",
       "      <td>A0A6I9IMU7_VICPAA0A6I9IMU7</td>\n",
       "      <td>A0A6I9IMU7</td>\n",
       "      <td>keratin-associated protein 4-3-like</td>\n",
       "      <td>30538</td>\n",
       "      <td>PF01500</td>\n",
       "    </tr>\n",
       "    <tr>\n",
       "      <th>9</th>\n",
       "      <td>A0A6J0APB3_VICPAA0A6J0APB3</td>\n",
       "      <td>A0A6J0APB3</td>\n",
       "      <td>keratin-associated protein 10-1-like</td>\n",
       "      <td>30538</td>\n",
       "      <td>PF05287</td>\n",
       "    </tr>\n",
       "    <tr>\n",
       "      <th>10</th>\n",
       "      <td>A0A7N5JVJ5_AILMEA0A7N5JVJ5</td>\n",
       "      <td>A0A7N5JVJ5</td>\n",
       "      <td>Uncharacterized protein</td>\n",
       "      <td>9646</td>\n",
       "      <td>PF05287</td>\n",
       "    </tr>\n",
       "  </tbody>\n",
       "</table>\n",
       "</div>"
      ],
      "text/plain": [
       "                            id   accession  \\\n",
       "0                 X6P775_RETFI      X6P775   \n",
       "1                 W6XY45_COCCA      W6XY45   \n",
       "2                 B7KI31_GLOC7      B7KI31   \n",
       "3                 V4L4I8_9GAMM      V4L4I8   \n",
       "4                 R9AA50_WALI9      R9AA50   \n",
       "5             A0A556U8F7_BAGYA  A0A556U8F7   \n",
       "6           Q6RXY1_MAIZEQ6RXY1      Q6RXY1   \n",
       "7           T1KCF8_TETURT1KCF8      T1KCF8   \n",
       "8   A0A6I9IMU7_VICPAA0A6I9IMU7  A0A6I9IMU7   \n",
       "9   A0A6J0APB3_VICPAA0A6J0APB3  A0A6J0APB3   \n",
       "10  A0A7N5JVJ5_AILMEA0A7N5JVJ5  A0A7N5JVJ5   \n",
       "\n",
       "                                     description    taxid family_accession  \n",
       "0                            Tubulin alpha chain    46433          PF00091  \n",
       "1                                  Gamma-tubulin   930089          PF00091  \n",
       "2        zinc_ribbon_2 domain-containing protein    65393          PF13809  \n",
       "3                 VWFA domain-containing protein  1385625          PF13809  \n",
       "4                             Fumarate hydratase  1299270          PF10644  \n",
       "5       Maternal embryonic leucine zipper kinase   175774          PF02149  \n",
       "6   Non-specific serine/threonine protein kinase     4577          PF02149  \n",
       "7       Protein kinase domain-containing protein    32264          PF16579  \n",
       "8            keratin-associated protein 4-3-like    30538          PF01500  \n",
       "9           keratin-associated protein 10-1-like    30538          PF05287  \n",
       "10                       Uncharacterized protein     9646          PF05287  "
      ]
     },
     "execution_count": 15,
     "metadata": {},
     "output_type": "execute_result"
    }
   ],
   "source": [
    "protein"
   ]
  },
  {
   "cell_type": "markdown",
   "id": "e7d51df3",
   "metadata": {
    "slideshow": {
     "slide_type": "slide"
    }
   },
   "source": [
    "### Join clan and protein table through family accession id"
   ]
  },
  {
   "cell_type": "code",
   "execution_count": 16,
   "id": "f88dca1e",
   "metadata": {
    "slideshow": {
     "slide_type": "subslide"
    }
   },
   "outputs": [
    {
     "data": {
      "text/html": [
       "<div>\n",
       "<style scoped>\n",
       "    .dataframe tbody tr th:only-of-type {\n",
       "        vertical-align: middle;\n",
       "    }\n",
       "\n",
       "    .dataframe tbody tr th {\n",
       "        vertical-align: top;\n",
       "    }\n",
       "\n",
       "    .dataframe thead th {\n",
       "        text-align: right;\n",
       "    }\n",
       "</style>\n",
       "<table border=\"1\" class=\"dataframe\">\n",
       "  <thead>\n",
       "    <tr style=\"text-align: right;\">\n",
       "      <th></th>\n",
       "      <th>family_accession</th>\n",
       "      <th>id_protein</th>\n",
       "      <th>accession</th>\n",
       "      <th>description_protein</th>\n",
       "      <th>taxid</th>\n",
       "      <th>id_clan</th>\n",
       "      <th>accession_clan</th>\n",
       "      <th>description_clan</th>\n",
       "    </tr>\n",
       "  </thead>\n",
       "  <tbody>\n",
       "    <tr>\n",
       "      <th>0</th>\n",
       "      <td>PF00091</td>\n",
       "      <td>X6P775_RETFI</td>\n",
       "      <td>X6P775</td>\n",
       "      <td>Tubulin alpha chain</td>\n",
       "      <td>46433</td>\n",
       "      <td>Tubulin</td>\n",
       "      <td>CL0566</td>\n",
       "      <td>Tubulin nucleotide-binding domain-like, GTPase</td>\n",
       "    </tr>\n",
       "    <tr>\n",
       "      <th>1</th>\n",
       "      <td>PF00091</td>\n",
       "      <td>W6XY45_COCCA</td>\n",
       "      <td>W6XY45</td>\n",
       "      <td>Gamma-tubulin</td>\n",
       "      <td>930089</td>\n",
       "      <td>Tubulin</td>\n",
       "      <td>CL0566</td>\n",
       "      <td>Tubulin nucleotide-binding domain-like, GTPase</td>\n",
       "    </tr>\n",
       "    <tr>\n",
       "      <th>2</th>\n",
       "      <td>PF01500</td>\n",
       "      <td>A0A6I9IMU7_VICPAA0A6I9IMU7</td>\n",
       "      <td>A0A6I9IMU7</td>\n",
       "      <td>keratin-associated protein 4-3-like</td>\n",
       "      <td>30538</td>\n",
       "      <td>Keratin_assoc</td>\n",
       "      <td>CL0520</td>\n",
       "      <td>Keratin_associated superfamily</td>\n",
       "    </tr>\n",
       "    <tr>\n",
       "      <th>3</th>\n",
       "      <td>PF02149</td>\n",
       "      <td>A0A556U8F7_BAGYA</td>\n",
       "      <td>A0A556U8F7</td>\n",
       "      <td>Maternal embryonic leucine zipper kinase</td>\n",
       "      <td>175774</td>\n",
       "      <td>KA1-like</td>\n",
       "      <td>CL0573</td>\n",
       "      <td>Kinase associated domain 1-like</td>\n",
       "    </tr>\n",
       "    <tr>\n",
       "      <th>4</th>\n",
       "      <td>PF02149</td>\n",
       "      <td>Q6RXY1_MAIZEQ6RXY1</td>\n",
       "      <td>Q6RXY1</td>\n",
       "      <td>Non-specific serine/threonine protein kinase</td>\n",
       "      <td>4577</td>\n",
       "      <td>KA1-like</td>\n",
       "      <td>CL0573</td>\n",
       "      <td>Kinase associated domain 1-like</td>\n",
       "    </tr>\n",
       "    <tr>\n",
       "      <th>5</th>\n",
       "      <td>PF05287</td>\n",
       "      <td>A0A6J0APB3_VICPAA0A6J0APB3</td>\n",
       "      <td>A0A6J0APB3</td>\n",
       "      <td>keratin-associated protein 10-1-like</td>\n",
       "      <td>30538</td>\n",
       "      <td>Keratin_assoc</td>\n",
       "      <td>CL0520</td>\n",
       "      <td>Keratin_associated superfamily</td>\n",
       "    </tr>\n",
       "    <tr>\n",
       "      <th>6</th>\n",
       "      <td>PF05287</td>\n",
       "      <td>A0A7N5JVJ5_AILMEA0A7N5JVJ5</td>\n",
       "      <td>A0A7N5JVJ5</td>\n",
       "      <td>Uncharacterized protein</td>\n",
       "      <td>9646</td>\n",
       "      <td>Keratin_assoc</td>\n",
       "      <td>CL0520</td>\n",
       "      <td>Keratin_associated superfamily</td>\n",
       "    </tr>\n",
       "    <tr>\n",
       "      <th>7</th>\n",
       "      <td>PF10644</td>\n",
       "      <td>R9AA50_WALI9</td>\n",
       "      <td>R9AA50</td>\n",
       "      <td>Fumarate hydratase</td>\n",
       "      <td>1299270</td>\n",
       "      <td>Tubulin</td>\n",
       "      <td>CL0566</td>\n",
       "      <td>Tubulin nucleotide-binding domain-like, GTPase</td>\n",
       "    </tr>\n",
       "    <tr>\n",
       "      <th>8</th>\n",
       "      <td>PF13809</td>\n",
       "      <td>B7KI31_GLOC7</td>\n",
       "      <td>B7KI31</td>\n",
       "      <td>zinc_ribbon_2 domain-containing protein</td>\n",
       "      <td>65393</td>\n",
       "      <td>Tubulin</td>\n",
       "      <td>CL0566</td>\n",
       "      <td>Tubulin nucleotide-binding domain-like, GTPase</td>\n",
       "    </tr>\n",
       "    <tr>\n",
       "      <th>9</th>\n",
       "      <td>PF13809</td>\n",
       "      <td>V4L4I8_9GAMM</td>\n",
       "      <td>V4L4I8</td>\n",
       "      <td>VWFA domain-containing protein</td>\n",
       "      <td>1385625</td>\n",
       "      <td>Tubulin</td>\n",
       "      <td>CL0566</td>\n",
       "      <td>Tubulin nucleotide-binding domain-like, GTPase</td>\n",
       "    </tr>\n",
       "    <tr>\n",
       "      <th>10</th>\n",
       "      <td>PF16579</td>\n",
       "      <td>T1KCF8_TETURT1KCF8</td>\n",
       "      <td>T1KCF8</td>\n",
       "      <td>Protein kinase domain-containing protein</td>\n",
       "      <td>32264</td>\n",
       "      <td>KA1-like</td>\n",
       "      <td>CL0573</td>\n",
       "      <td>Kinase associated domain 1-like</td>\n",
       "    </tr>\n",
       "  </tbody>\n",
       "</table>\n",
       "</div>"
      ],
      "text/plain": [
       "   family_accession                  id_protein   accession  \\\n",
       "0           PF00091                X6P775_RETFI      X6P775   \n",
       "1           PF00091                W6XY45_COCCA      W6XY45   \n",
       "2           PF01500  A0A6I9IMU7_VICPAA0A6I9IMU7  A0A6I9IMU7   \n",
       "3           PF02149            A0A556U8F7_BAGYA  A0A556U8F7   \n",
       "4           PF02149          Q6RXY1_MAIZEQ6RXY1      Q6RXY1   \n",
       "5           PF05287  A0A6J0APB3_VICPAA0A6J0APB3  A0A6J0APB3   \n",
       "6           PF05287  A0A7N5JVJ5_AILMEA0A7N5JVJ5  A0A7N5JVJ5   \n",
       "7           PF10644                R9AA50_WALI9      R9AA50   \n",
       "8           PF13809                B7KI31_GLOC7      B7KI31   \n",
       "9           PF13809                V4L4I8_9GAMM      V4L4I8   \n",
       "10          PF16579          T1KCF8_TETURT1KCF8      T1KCF8   \n",
       "\n",
       "                             description_protein    taxid        id_clan  \\\n",
       "0                            Tubulin alpha chain    46433        Tubulin   \n",
       "1                                  Gamma-tubulin   930089        Tubulin   \n",
       "2            keratin-associated protein 4-3-like    30538  Keratin_assoc   \n",
       "3       Maternal embryonic leucine zipper kinase   175774       KA1-like   \n",
       "4   Non-specific serine/threonine protein kinase     4577       KA1-like   \n",
       "5           keratin-associated protein 10-1-like    30538  Keratin_assoc   \n",
       "6                        Uncharacterized protein     9646  Keratin_assoc   \n",
       "7                             Fumarate hydratase  1299270        Tubulin   \n",
       "8        zinc_ribbon_2 domain-containing protein    65393        Tubulin   \n",
       "9                 VWFA domain-containing protein  1385625        Tubulin   \n",
       "10      Protein kinase domain-containing protein    32264       KA1-like   \n",
       "\n",
       "   accession_clan                                description_clan  \n",
       "0          CL0566  Tubulin nucleotide-binding domain-like, GTPase  \n",
       "1          CL0566  Tubulin nucleotide-binding domain-like, GTPase  \n",
       "2          CL0520                  Keratin_associated superfamily  \n",
       "3          CL0573                 Kinase associated domain 1-like  \n",
       "4          CL0573                 Kinase associated domain 1-like  \n",
       "5          CL0520                  Keratin_associated superfamily  \n",
       "6          CL0520                  Keratin_associated superfamily  \n",
       "7          CL0566  Tubulin nucleotide-binding domain-like, GTPase  \n",
       "8          CL0566  Tubulin nucleotide-binding domain-like, GTPase  \n",
       "9          CL0566  Tubulin nucleotide-binding domain-like, GTPase  \n",
       "10         CL0573                 Kinase associated domain 1-like  "
      ]
     },
     "execution_count": 16,
     "metadata": {},
     "output_type": "execute_result"
    }
   ],
   "source": [
    "protein_clan = protein.set_index('family_accession').join(clan_family.set_index('accession_family'), how='left',\\\n",
    "                                                         lsuffix='_protein', rsuffix='_clan')\n",
    "protein_clan.reset_index(inplace=True)\n",
    "protein_clan.rename(columns={'index' : 'family_accession'}, inplace=True)\n",
    "protein_clan"
   ]
  },
  {
   "cell_type": "markdown",
   "id": "f196712f",
   "metadata": {
    "slideshow": {
     "slide_type": "slide"
    }
   },
   "source": [
    "# Search specific information"
   ]
  },
  {
   "cell_type": "code",
   "execution_count": 17,
   "id": "ed5bf4b8",
   "metadata": {
    "slideshow": {
     "slide_type": "subslide"
    }
   },
   "outputs": [
    {
     "data": {
      "text/html": [
       "<div>\n",
       "<style scoped>\n",
       "    .dataframe tbody tr th:only-of-type {\n",
       "        vertical-align: middle;\n",
       "    }\n",
       "\n",
       "    .dataframe tbody tr th {\n",
       "        vertical-align: top;\n",
       "    }\n",
       "\n",
       "    .dataframe thead th {\n",
       "        text-align: right;\n",
       "    }\n",
       "</style>\n",
       "<table border=\"1\" class=\"dataframe\">\n",
       "  <thead>\n",
       "    <tr style=\"text-align: right;\">\n",
       "      <th></th>\n",
       "      <th>id_protein</th>\n",
       "      <th>accession</th>\n",
       "      <th>description_protein</th>\n",
       "      <th>id_clan</th>\n",
       "      <th>accession_clan</th>\n",
       "      <th>description_clan</th>\n",
       "    </tr>\n",
       "  </thead>\n",
       "  <tbody>\n",
       "    <tr>\n",
       "      <th>0</th>\n",
       "      <td>X6P775_RETFI</td>\n",
       "      <td>X6P775</td>\n",
       "      <td>Tubulin alpha chain</td>\n",
       "      <td>Tubulin</td>\n",
       "      <td>CL0566</td>\n",
       "      <td>Tubulin nucleotide-binding domain-like, GTPase</td>\n",
       "    </tr>\n",
       "    <tr>\n",
       "      <th>1</th>\n",
       "      <td>W6XY45_COCCA</td>\n",
       "      <td>W6XY45</td>\n",
       "      <td>Gamma-tubulin</td>\n",
       "      <td>Tubulin</td>\n",
       "      <td>CL0566</td>\n",
       "      <td>Tubulin nucleotide-binding domain-like, GTPase</td>\n",
       "    </tr>\n",
       "    <tr>\n",
       "      <th>2</th>\n",
       "      <td>A0A6I9IMU7_VICPAA0A6I9IMU7</td>\n",
       "      <td>A0A6I9IMU7</td>\n",
       "      <td>keratin-associated protein 4-3-like</td>\n",
       "      <td>Keratin_assoc</td>\n",
       "      <td>CL0520</td>\n",
       "      <td>Keratin_associated superfamily</td>\n",
       "    </tr>\n",
       "    <tr>\n",
       "      <th>3</th>\n",
       "      <td>A0A556U8F7_BAGYA</td>\n",
       "      <td>A0A556U8F7</td>\n",
       "      <td>Maternal embryonic leucine zipper kinase</td>\n",
       "      <td>KA1-like</td>\n",
       "      <td>CL0573</td>\n",
       "      <td>Kinase associated domain 1-like</td>\n",
       "    </tr>\n",
       "    <tr>\n",
       "      <th>4</th>\n",
       "      <td>Q6RXY1_MAIZEQ6RXY1</td>\n",
       "      <td>Q6RXY1</td>\n",
       "      <td>Non-specific serine/threonine protein kinase</td>\n",
       "      <td>KA1-like</td>\n",
       "      <td>CL0573</td>\n",
       "      <td>Kinase associated domain 1-like</td>\n",
       "    </tr>\n",
       "    <tr>\n",
       "      <th>5</th>\n",
       "      <td>A0A6J0APB3_VICPAA0A6J0APB3</td>\n",
       "      <td>A0A6J0APB3</td>\n",
       "      <td>keratin-associated protein 10-1-like</td>\n",
       "      <td>Keratin_assoc</td>\n",
       "      <td>CL0520</td>\n",
       "      <td>Keratin_associated superfamily</td>\n",
       "    </tr>\n",
       "    <tr>\n",
       "      <th>6</th>\n",
       "      <td>A0A7N5JVJ5_AILMEA0A7N5JVJ5</td>\n",
       "      <td>A0A7N5JVJ5</td>\n",
       "      <td>Uncharacterized protein</td>\n",
       "      <td>Keratin_assoc</td>\n",
       "      <td>CL0520</td>\n",
       "      <td>Keratin_associated superfamily</td>\n",
       "    </tr>\n",
       "    <tr>\n",
       "      <th>7</th>\n",
       "      <td>R9AA50_WALI9</td>\n",
       "      <td>R9AA50</td>\n",
       "      <td>Fumarate hydratase</td>\n",
       "      <td>Tubulin</td>\n",
       "      <td>CL0566</td>\n",
       "      <td>Tubulin nucleotide-binding domain-like, GTPase</td>\n",
       "    </tr>\n",
       "    <tr>\n",
       "      <th>8</th>\n",
       "      <td>B7KI31_GLOC7</td>\n",
       "      <td>B7KI31</td>\n",
       "      <td>zinc_ribbon_2 domain-containing protein</td>\n",
       "      <td>Tubulin</td>\n",
       "      <td>CL0566</td>\n",
       "      <td>Tubulin nucleotide-binding domain-like, GTPase</td>\n",
       "    </tr>\n",
       "    <tr>\n",
       "      <th>9</th>\n",
       "      <td>V4L4I8_9GAMM</td>\n",
       "      <td>V4L4I8</td>\n",
       "      <td>VWFA domain-containing protein</td>\n",
       "      <td>Tubulin</td>\n",
       "      <td>CL0566</td>\n",
       "      <td>Tubulin nucleotide-binding domain-like, GTPase</td>\n",
       "    </tr>\n",
       "    <tr>\n",
       "      <th>10</th>\n",
       "      <td>T1KCF8_TETURT1KCF8</td>\n",
       "      <td>T1KCF8</td>\n",
       "      <td>Protein kinase domain-containing protein</td>\n",
       "      <td>KA1-like</td>\n",
       "      <td>CL0573</td>\n",
       "      <td>Kinase associated domain 1-like</td>\n",
       "    </tr>\n",
       "  </tbody>\n",
       "</table>\n",
       "</div>"
      ],
      "text/plain": [
       "                    id_protein   accession  \\\n",
       "0                 X6P775_RETFI      X6P775   \n",
       "1                 W6XY45_COCCA      W6XY45   \n",
       "2   A0A6I9IMU7_VICPAA0A6I9IMU7  A0A6I9IMU7   \n",
       "3             A0A556U8F7_BAGYA  A0A556U8F7   \n",
       "4           Q6RXY1_MAIZEQ6RXY1      Q6RXY1   \n",
       "5   A0A6J0APB3_VICPAA0A6J0APB3  A0A6J0APB3   \n",
       "6   A0A7N5JVJ5_AILMEA0A7N5JVJ5  A0A7N5JVJ5   \n",
       "7                 R9AA50_WALI9      R9AA50   \n",
       "8                 B7KI31_GLOC7      B7KI31   \n",
       "9                 V4L4I8_9GAMM      V4L4I8   \n",
       "10          T1KCF8_TETURT1KCF8      T1KCF8   \n",
       "\n",
       "                             description_protein        id_clan  \\\n",
       "0                            Tubulin alpha chain        Tubulin   \n",
       "1                                  Gamma-tubulin        Tubulin   \n",
       "2            keratin-associated protein 4-3-like  Keratin_assoc   \n",
       "3       Maternal embryonic leucine zipper kinase       KA1-like   \n",
       "4   Non-specific serine/threonine protein kinase       KA1-like   \n",
       "5           keratin-associated protein 10-1-like  Keratin_assoc   \n",
       "6                        Uncharacterized protein  Keratin_assoc   \n",
       "7                             Fumarate hydratase        Tubulin   \n",
       "8        zinc_ribbon_2 domain-containing protein        Tubulin   \n",
       "9                 VWFA domain-containing protein        Tubulin   \n",
       "10      Protein kinase domain-containing protein       KA1-like   \n",
       "\n",
       "   accession_clan                                description_clan  \n",
       "0          CL0566  Tubulin nucleotide-binding domain-like, GTPase  \n",
       "1          CL0566  Tubulin nucleotide-binding domain-like, GTPase  \n",
       "2          CL0520                  Keratin_associated superfamily  \n",
       "3          CL0573                 Kinase associated domain 1-like  \n",
       "4          CL0573                 Kinase associated domain 1-like  \n",
       "5          CL0520                  Keratin_associated superfamily  \n",
       "6          CL0520                  Keratin_associated superfamily  \n",
       "7          CL0566  Tubulin nucleotide-binding domain-like, GTPase  \n",
       "8          CL0566  Tubulin nucleotide-binding domain-like, GTPase  \n",
       "9          CL0566  Tubulin nucleotide-binding domain-like, GTPase  \n",
       "10         CL0573                 Kinase associated domain 1-like  "
      ]
     },
     "execution_count": 17,
     "metadata": {},
     "output_type": "execute_result"
    }
   ],
   "source": [
    "df = protein_clan[['id_protein', 'accession', 'description_protein', 'id_clan', 'accession_clan', 'description_clan']]\n",
    "df"
   ]
  },
  {
   "cell_type": "markdown",
   "id": "bacc4d42",
   "metadata": {
    "slideshow": {
     "slide_type": "slide"
    }
   },
   "source": [
    "### Search proteins from one clan (e.g. 'Tubulin' )"
   ]
  },
  {
   "cell_type": "code",
   "execution_count": 18,
   "id": "696d21e3",
   "metadata": {
    "slideshow": {
     "slide_type": "subslide"
    }
   },
   "outputs": [
    {
     "data": {
      "text/html": [
       "<div>\n",
       "<style scoped>\n",
       "    .dataframe tbody tr th:only-of-type {\n",
       "        vertical-align: middle;\n",
       "    }\n",
       "\n",
       "    .dataframe tbody tr th {\n",
       "        vertical-align: top;\n",
       "    }\n",
       "\n",
       "    .dataframe thead th {\n",
       "        text-align: right;\n",
       "    }\n",
       "</style>\n",
       "<table border=\"1\" class=\"dataframe\">\n",
       "  <thead>\n",
       "    <tr style=\"text-align: right;\">\n",
       "      <th></th>\n",
       "      <th>id_protein</th>\n",
       "      <th>accession</th>\n",
       "      <th>description_protein</th>\n",
       "      <th>id_clan</th>\n",
       "      <th>accession_clan</th>\n",
       "      <th>description_clan</th>\n",
       "    </tr>\n",
       "  </thead>\n",
       "  <tbody>\n",
       "    <tr>\n",
       "      <th>0</th>\n",
       "      <td>X6P775_RETFI</td>\n",
       "      <td>X6P775</td>\n",
       "      <td>Tubulin alpha chain</td>\n",
       "      <td>Tubulin</td>\n",
       "      <td>CL0566</td>\n",
       "      <td>Tubulin nucleotide-binding domain-like, GTPase</td>\n",
       "    </tr>\n",
       "    <tr>\n",
       "      <th>1</th>\n",
       "      <td>W6XY45_COCCA</td>\n",
       "      <td>W6XY45</td>\n",
       "      <td>Gamma-tubulin</td>\n",
       "      <td>Tubulin</td>\n",
       "      <td>CL0566</td>\n",
       "      <td>Tubulin nucleotide-binding domain-like, GTPase</td>\n",
       "    </tr>\n",
       "    <tr>\n",
       "      <th>7</th>\n",
       "      <td>R9AA50_WALI9</td>\n",
       "      <td>R9AA50</td>\n",
       "      <td>Fumarate hydratase</td>\n",
       "      <td>Tubulin</td>\n",
       "      <td>CL0566</td>\n",
       "      <td>Tubulin nucleotide-binding domain-like, GTPase</td>\n",
       "    </tr>\n",
       "    <tr>\n",
       "      <th>8</th>\n",
       "      <td>B7KI31_GLOC7</td>\n",
       "      <td>B7KI31</td>\n",
       "      <td>zinc_ribbon_2 domain-containing protein</td>\n",
       "      <td>Tubulin</td>\n",
       "      <td>CL0566</td>\n",
       "      <td>Tubulin nucleotide-binding domain-like, GTPase</td>\n",
       "    </tr>\n",
       "    <tr>\n",
       "      <th>9</th>\n",
       "      <td>V4L4I8_9GAMM</td>\n",
       "      <td>V4L4I8</td>\n",
       "      <td>VWFA domain-containing protein</td>\n",
       "      <td>Tubulin</td>\n",
       "      <td>CL0566</td>\n",
       "      <td>Tubulin nucleotide-binding domain-like, GTPase</td>\n",
       "    </tr>\n",
       "  </tbody>\n",
       "</table>\n",
       "</div>"
      ],
      "text/plain": [
       "     id_protein accession                      description_protein  id_clan  \\\n",
       "0  X6P775_RETFI    X6P775                      Tubulin alpha chain  Tubulin   \n",
       "1  W6XY45_COCCA    W6XY45                            Gamma-tubulin  Tubulin   \n",
       "7  R9AA50_WALI9    R9AA50                       Fumarate hydratase  Tubulin   \n",
       "8  B7KI31_GLOC7    B7KI31  zinc_ribbon_2 domain-containing protein  Tubulin   \n",
       "9  V4L4I8_9GAMM    V4L4I8           VWFA domain-containing protein  Tubulin   \n",
       "\n",
       "  accession_clan                                description_clan  \n",
       "0         CL0566  Tubulin nucleotide-binding domain-like, GTPase  \n",
       "1         CL0566  Tubulin nucleotide-binding domain-like, GTPase  \n",
       "7         CL0566  Tubulin nucleotide-binding domain-like, GTPase  \n",
       "8         CL0566  Tubulin nucleotide-binding domain-like, GTPase  \n",
       "9         CL0566  Tubulin nucleotide-binding domain-like, GTPase  "
      ]
     },
     "execution_count": 18,
     "metadata": {},
     "output_type": "execute_result"
    }
   ],
   "source": [
    "df[df['id_clan'] == 'Tubulin']"
   ]
  },
  {
   "cell_type": "markdown",
   "id": "84c6da73",
   "metadata": {
    "slideshow": {
     "slide_type": "slide"
    }
   },
   "source": [
    "### Search clan of protein from  protein accession (e.g. 'A0A6I9IMU7' )"
   ]
  },
  {
   "cell_type": "code",
   "execution_count": 19,
   "id": "9d369286",
   "metadata": {
    "slideshow": {
     "slide_type": "subslide"
    }
   },
   "outputs": [
    {
     "data": {
      "text/html": [
       "<div>\n",
       "<style scoped>\n",
       "    .dataframe tbody tr th:only-of-type {\n",
       "        vertical-align: middle;\n",
       "    }\n",
       "\n",
       "    .dataframe tbody tr th {\n",
       "        vertical-align: top;\n",
       "    }\n",
       "\n",
       "    .dataframe thead th {\n",
       "        text-align: right;\n",
       "    }\n",
       "</style>\n",
       "<table border=\"1\" class=\"dataframe\">\n",
       "  <thead>\n",
       "    <tr style=\"text-align: right;\">\n",
       "      <th></th>\n",
       "      <th>id_protein</th>\n",
       "      <th>accession</th>\n",
       "      <th>description_protein</th>\n",
       "      <th>id_clan</th>\n",
       "      <th>accession_clan</th>\n",
       "      <th>description_clan</th>\n",
       "    </tr>\n",
       "  </thead>\n",
       "  <tbody>\n",
       "    <tr>\n",
       "      <th>2</th>\n",
       "      <td>A0A6I9IMU7_VICPAA0A6I9IMU7</td>\n",
       "      <td>A0A6I9IMU7</td>\n",
       "      <td>keratin-associated protein 4-3-like</td>\n",
       "      <td>Keratin_assoc</td>\n",
       "      <td>CL0520</td>\n",
       "      <td>Keratin_associated superfamily</td>\n",
       "    </tr>\n",
       "  </tbody>\n",
       "</table>\n",
       "</div>"
      ],
      "text/plain": [
       "                   id_protein   accession  \\\n",
       "2  A0A6I9IMU7_VICPAA0A6I9IMU7  A0A6I9IMU7   \n",
       "\n",
       "                   description_protein        id_clan accession_clan  \\\n",
       "2  keratin-associated protein 4-3-like  Keratin_assoc         CL0520   \n",
       "\n",
       "                 description_clan  \n",
       "2  Keratin_associated superfamily  "
      ]
     },
     "execution_count": 19,
     "metadata": {},
     "output_type": "execute_result"
    }
   ],
   "source": [
    "df[df['accession'] == 'A0A6I9IMU7']"
   ]
  },
  {
   "cell_type": "markdown",
   "id": "d3560651",
   "metadata": {
    "slideshow": {
     "slide_type": "slide"
    }
   },
   "source": [
    "# Conclusion\n",
    "\n",
    "- link tables based on common data\n",
    "- find specific information from database\n",
    "- create new tables with only required information"
   ]
  },
  {
   "cell_type": "markdown",
   "id": "b7950750",
   "metadata": {
    "slideshow": {
     "slide_type": "slide"
    }
   },
   "source": [
    "# Thank You"
   ]
  },
  {
   "cell_type": "markdown",
   "id": "ec93b3aa",
   "metadata": {
    "slideshow": {
     "slide_type": "skip"
    }
   },
   "source": [
    "# Create database\n",
    "\n",
    "- Run following cells to create the pfam database used in this notebook.\n",
    "- Change paths (if needed)"
   ]
  },
  {
   "cell_type": "code",
   "execution_count": 20,
   "id": "069db941",
   "metadata": {
    "slideshow": {
     "slide_type": "skip"
    }
   },
   "outputs": [],
   "source": [
    "# import pandas as pd\n",
    "\n",
    "# files_path = 'C:\\\\Users\\\\kriti\\\\Desktop\\\\BioDB\\\\2-kriti\\\\Homework\\\\Day_3\\\\Pfam\\\\'\n",
    "# connection = 'sqlite:///pfam.db'"
   ]
  },
  {
   "cell_type": "code",
   "execution_count": 21,
   "id": "2b61454e",
   "metadata": {
    "slideshow": {
     "slide_type": "skip"
    }
   },
   "outputs": [],
   "source": [
    "# %load_ext sql\n",
    "# %sql sqlite:///pfam.db"
   ]
  },
  {
   "cell_type": "code",
   "execution_count": 22,
   "id": "99fee126",
   "metadata": {
    "slideshow": {
     "slide_type": "skip"
    }
   },
   "outputs": [],
   "source": [
    "# clan = pd.read_csv(file_path+'clan.csv')\n",
    "# family = pd.read_csv(file_path+'family.csv')\n",
    "# protein = pd.read_csv(file_path+'protein.csv')"
   ]
  },
  {
   "cell_type": "code",
   "execution_count": 23,
   "id": "577b333c",
   "metadata": {
    "slideshow": {
     "slide_type": "skip"
    }
   },
   "outputs": [],
   "source": [
    "# clan.to_sql('clan', connection, if_exists='replace')\n",
    "\n",
    "# family.to_sql('family', connection, if_exists='replace')\n",
    "\n",
    "# protein.to_sql('protein', connection, if_exists='replace')"
   ]
  }
 ],
 "metadata": {
  "celltoolbar": "Slideshow",
  "kernelspec": {
   "display_name": "biodb_2022",
   "language": "python",
   "name": "biodb_2022"
  },
  "language_info": {
   "codemirror_mode": {
    "name": "ipython",
    "version": 3
   },
   "file_extension": ".py",
   "mimetype": "text/x-python",
   "name": "python",
   "nbconvert_exporter": "python",
   "pygments_lexer": "ipython3",
   "version": "3.10.1"
  },
  "toc": {
   "base_numbering": 1,
   "nav_menu": {},
   "number_sections": true,
   "sideBar": true,
   "skip_h1_title": false,
   "title_cell": "Table of Contents",
   "title_sidebar": "Contents",
   "toc_cell": false,
   "toc_position": {},
   "toc_section_display": true,
   "toc_window_display": true
  }
 },
 "nbformat": 4,
 "nbformat_minor": 5
}
