{
 "cells": [
  {
   "cell_type": "markdown",
   "id": "4564ffa7",
   "metadata": {
    "slideshow": {
     "slide_type": "slide"
    }
   },
   "source": [
    "# Homework 2\n",
    "\n",
    "# Database - Pfam\n",
    "\n",
    "#### 15.03.2022"
   ]
  },
  {
   "cell_type": "markdown",
   "id": "73c86d99",
   "metadata": {
    "slideshow": {
     "slide_type": "slide"
    }
   },
   "source": [
    "# Protein families database (Pfam)\n",
    "\n",
    "- classify protein sequences into families and domains\n",
    "\n",
    "- used to analyse novel genomes and metagenomes"
   ]
  },
  {
   "cell_type": "markdown",
   "id": "4bbefbef",
   "metadata": {
    "slideshow": {
     "slide_type": "slide"
    }
   },
   "source": [
    "- The Pfam database is a large collection of protein domain families\n",
    "\n",
    "- Each family is represented by multiple sequence alignments and a hidden Markov model (HMMs)\n",
    "\n",
    "- Pfam entries are classified in one of six ways"
   ]
  },
  {
   "cell_type": "markdown",
   "id": "258445c6",
   "metadata": {
    "slideshow": {
     "slide_type": "slide"
    }
   },
   "source": [
    "#### Family:\n",
    "- A collection of related protein regions\n",
    "\n",
    "#### Domain:\n",
    "- A structural unit"
   ]
  },
  {
   "cell_type": "markdown",
   "id": "6c63cfbb",
   "metadata": {
    "slideshow": {
     "slide_type": "slide"
    }
   },
   "source": [
    "#### Repeat:\n",
    "- A short unit which is unstable in isolation but forms a stable structure when multiple copies are present\n",
    "\n",
    "#### Motifs:\n",
    "- A short unit found outside globular domains"
   ]
  },
  {
   "cell_type": "markdown",
   "id": "8b7313a8",
   "metadata": {
    "slideshow": {
     "slide_type": "slide"
    }
   },
   "source": [
    "#### Coiled-Coil:\n",
    "- Regions that predominantly contain coiled-coil motifs, regions that typically contain alpha-helices that are coiled together in bundles of 2-7.\n",
    "\n",
    "#### Disordered:\n",
    "- Regions that are conserved, yet are either shown or predicted to contain bias sequence composition and/or are intrinsically disordered (non-globular).\n",
    "\n",
    "Related Pfam entries are grouped together into clans; the relationship may be defined by similarity of sequence, structure or profile-HMM."
   ]
  },
  {
   "cell_type": "markdown",
   "id": "21360cad",
   "metadata": {
    "slideshow": {
     "slide_type": "slide"
    }
   },
   "source": [
    "### Database\n",
    "\n",
    "- The Pfam MySQL database contains all of the data accessible via the website\n",
    "- The database currently consists of 65 tables."
   ]
  },
  {
   "cell_type": "markdown",
   "id": "1033f30f",
   "metadata": {
    "slideshow": {
     "slide_type": "slide"
    }
   },
   "source": [
    "### Links\n",
    "\n",
    "- Database - http://pfam.xfam.org/\n",
    "- Documentation - https://pfam-docs.readthedocs.io/en/latest/index.html\n",
    "- References - https://academic.oup.com/nar/article/49/D1/D412/5943818?login=false"
   ]
  },
  {
   "cell_type": "markdown",
   "id": "e4afce77",
   "metadata": {
    "slideshow": {
     "slide_type": "slide"
    }
   },
   "source": [
    "## Thank You"
   ]
  },
  {
   "cell_type": "code",
   "execution_count": null,
   "id": "c7cdc97f",
   "metadata": {
    "slideshow": {
     "slide_type": "skip"
    }
   },
   "outputs": [],
   "source": []
  },
  {
   "cell_type": "code",
   "execution_count": null,
   "id": "033c02cd",
   "metadata": {
    "slideshow": {
     "slide_type": "skip"
    }
   },
   "outputs": [],
   "source": []
  },
  {
   "cell_type": "code",
   "execution_count": 4,
   "id": "1f8bc4e3",
   "metadata": {
    "slideshow": {
     "slide_type": "skip"
    }
   },
   "outputs": [
    {
     "ename": "TypeError",
     "evalue": "a bytes-like object is required, not 'str'",
     "output_type": "error",
     "traceback": [
      "\u001b[1;31m---------------------------------------------------------------------------\u001b[0m",
      "\u001b[1;31mTypeError\u001b[0m                                 Traceback (most recent call last)",
      "Input \u001b[1;32mIn [4]\u001b[0m, in \u001b[0;36m<cell line: 3>\u001b[1;34m()\u001b[0m\n\u001b[0;32m      1\u001b[0m \u001b[38;5;28;01mimport\u001b[39;00m \u001b[38;5;21;01mgzip\u001b[39;00m\n\u001b[0;32m      2\u001b[0m database_file \u001b[38;5;241m=\u001b[39m \u001b[38;5;124m'\u001b[39m\u001b[38;5;124malignment_and_tree.sql.gz\u001b[39m\u001b[38;5;124m'\u001b[39m\n\u001b[1;32m----> 3\u001b[0m db \u001b[38;5;241m=\u001b[39m \u001b[43mgzip\u001b[49m\u001b[38;5;241;43m.\u001b[39;49m\u001b[43mdecompress\u001b[49m\u001b[43m(\u001b[49m\u001b[43mdatabase_file\u001b[49m\u001b[43m)\u001b[49m\n",
      "File \u001b[1;32m~\\AppData\\Local\\Programs\\Python\\Python310\\lib\\gzip.py:556\u001b[0m, in \u001b[0;36mdecompress\u001b[1;34m(data)\u001b[0m\n\u001b[0;32m    552\u001b[0m \u001b[38;5;28;01mdef\u001b[39;00m \u001b[38;5;21mdecompress\u001b[39m(data):\n\u001b[0;32m    553\u001b[0m     \u001b[38;5;124;03m\"\"\"Decompress a gzip compressed string in one shot.\u001b[39;00m\n\u001b[0;32m    554\u001b[0m \u001b[38;5;124;03m    Return the decompressed string.\u001b[39;00m\n\u001b[0;32m    555\u001b[0m \u001b[38;5;124;03m    \"\"\"\u001b[39;00m\n\u001b[1;32m--> 556\u001b[0m     \u001b[38;5;28;01mwith\u001b[39;00m GzipFile(fileobj\u001b[38;5;241m=\u001b[39m\u001b[43mio\u001b[49m\u001b[38;5;241;43m.\u001b[39;49m\u001b[43mBytesIO\u001b[49m\u001b[43m(\u001b[49m\u001b[43mdata\u001b[49m\u001b[43m)\u001b[49m) \u001b[38;5;28;01mas\u001b[39;00m f:\n\u001b[0;32m    557\u001b[0m         \u001b[38;5;28;01mreturn\u001b[39;00m f\u001b[38;5;241m.\u001b[39mread()\n",
      "\u001b[1;31mTypeError\u001b[0m: a bytes-like object is required, not 'str'"
     ]
    }
   ],
   "source": [
    "# import gzip\n",
    "# database_file = 'author.txt.gz'\n",
    "# db = gzip.decompress(database_file)"
   ]
  },
  {
   "cell_type": "code",
   "execution_count": 9,
   "id": "6654b6df",
   "metadata": {
    "slideshow": {
     "slide_type": "skip"
    }
   },
   "outputs": [],
   "source": [
    "import gzip\n",
    "import shutil\n",
    "with gzip.open('author.txt.gz', 'rb') as f_in:\n",
    "    with open('author.txt', 'wb') as f_out:\n",
    "        shutil.copyfileobj(f_in, f_out)"
   ]
  },
  {
   "cell_type": "code",
   "execution_count": 12,
   "id": "d57aab30",
   "metadata": {},
   "outputs": [
    {
     "name": "stdout",
     "output_type": "stream",
     "text": [
      "1\tSonnhammer ELL\t0000-0002-9015-5588\n",
      "2\tBateman A\t0000-0002-6982-4660\n",
      "3\tGriffiths-Jones SR\t0000-0001-6043-807X\n",
      "4\tEddy SR\t0000-0001-6676-4706\n",
      "5\tFinn RD\t0000-0001-8626-2148\n",
      "6\tFenech M\t0000-0001-7933-4617\n",
      "7\tCerutti L\tNULL\n",
      "8\tChothia C\tNULL\n",
      "9\tPonting CP\t0000-0003-0202-7816\n",
      "10\tEberhardt R\t0000-0001-6152-1369\n",
      "11\tBirney E\t0000-0001-8314-8497\n",
      "12\tLutfiyya LL\tNULL\n",
      "13\tBoehm S\t0000-0002-9538-9279\n",
      "14\tGago F\t0000-0002-3071-4878\n",
      "15\tVella Briffa B\t0000-0003-4380-1783\n",
      "16\tStudholme DJ\t0000-0002-3010-6637\n",
      "17\tDlakic M\t0000-0003-4315-1514\n",
      "19\tSchleif R\tNULL\n",
      "20\tSMART\tNULL\n",
      "21\tSchultz J\tNULL\n",
      "22\tBork P\t0000-0002-2627-833X\n",
      "23\tYeats C\t0000-0003-0080-6242\n",
      "24\tSammut SJ\t0000-0003-4472-904X\n",
      "25\tValas RE\tNULL\n",
      "26\tDelamarche C\t0000-0002-8963-0062\n",
      "27\tRichardson L\t0000-0002-3655-5660\n",
      "28\tBruskiewich R\t0000-0002-4447-5978\n",
      "29\tMistry J\t0000-0003-2479-5322\n",
      "30\tRigden DJ\t0000-0002-7565-8937\n",
      "31\tCoggill P\t0000-0001-5731-1588\n",
      "32\tHughes J\tNULL\n",
      "33\tHoskisson PA\t0000-0003-4332-1640\n",
      "34\tKerrison ND\t0000-0002-1471-953X\n",
      "35\tRadauer C\t0000-0001-9920-4449\n",
      "36\tStabach P\tNULL\n",
      "37\tEl-Gebali S\t0000-0003-1378-5495\n",
      "38\tAnantharaman V\t0000-0001-8395-0009\n",
      "39\tDesvaux M\t0000-0003-2986-6417\n",
      "40\tDurocher D\t0000-0003-3863-8635\n",
      "41\tMoxon SJ\t0000-0003-4644-1816\n",
      "42\tde Maagd R\tNULL\n",
      "43\tPercudani R\t0000-0001-8452-1062\n",
      "44\tKerk D\t0000-0002-8843-860X\n",
      "45\tMartemyanov K\tNULL\n",
      "46\tThorner J\t0000-0002-2583-500X\n",
      "47\tPascual J\t0000-0001-8992-7475\n",
      "48\tBardwell VJ\tNULL\n",
      "49\tMolgaard A\tNULL\n",
      "50\tYamout M\tNULL\n",
      "51\tMarcu O\tNULL\n",
      "52\tWood V\t0000-0001-6330-7526\n",
      "53\tSegerman B\t0000-0001-8113-8674\n",
      "54\tHuang S\t0000-0003-2674-2830\n",
      "55\tDeclerck N\tNULL\n",
      "56\tMartinac B\t0000-0001-8422-7082\n",
      "57\tGuo X\tNULL\n",
      "58\tCroning MDR\tNULL\n",
      "59\tCopley RD\tNULL\n",
      "60\tParkhill J\t0000-0002-7069-5958\n",
      "61\tBrock T\tNULL\n",
      "62\tBelitsky B\tNULL\n",
      "63\tMifsud W\t0000-0002-9805-6461\n",
      "64\tMian N\t0000-0003-4284-4749\n",
      "65\tChristensen J\tNULL\n",
      "66\tArmstrong J\tNULL\n",
      "67\tIyer LM\t0000-0002-4844-2022\n",
      "68\tBurroughs AM\t0000-0002-2229-8771\n",
      "69\tAravind L\t0000-0003-0771-253X\n",
      "70\tCoates D\tNULL\n",
      "71\tHowe K\t0000-0002-1751-9226\n",
      "72\tDudgeon T\tNULL\n",
      "73\tAhola T\tNULL\n",
      "74\tRussell R\tNULL\n",
      "75\tBashton M\t0000-0002-6847-1525\n",
      "76\tGibson TJ\t0000-0003-0657-5166\n",
      "77\tPaterson M\tNULL\n",
      "78\tVogel B\tNULL\n",
      "79\tTellam RL\t0000-0003-2353-1640\n",
      "80\tHutter H\tNULL\n",
      "81\tMcCann R\t0000-0003-3722-3358\n",
      "82\tEnright A\t0000-0002-6090-3100\n",
      "83\tCaffrey C\t0000-0002-3234-9608\n",
      "84\tSohrmann M\tNULL\n",
      "85\tAyala JA\tNULL\n",
      "86\tKrishna SS\tNULL\n",
      "87\tZhang D\t0000-0001-8535-7620\n",
      "88\tBedford MT\tNULL\n",
      "89\tOuzounis C\t0000-0002-0086-8657\n",
      "90\tBott M\t0000-0002-4701-8254\n",
      "91\tMorett E\tNULL\n",
      "92\tMorningstar A\tNULL\n",
      "93\tLawson D\tNULL\n",
      "94\tSchauser L\t0000-0003-0675-8077\n",
      "95\tCasavant T\tNULL\n",
      "96\tBruckert F\tNULL\n",
      "97\tDe Guzman R\t0000-0003-1172-2917\n",
      "98\tSong JJ\t0000-0001-7120-6311\n",
      "99\tHammonds G\tNULL\n",
      "100\tMahon P\tNULL\n",
      "101\tHaft D\t0000-0001-8101-4938\n",
      "102\tStaub E\t0000-0002-5039-3098\n",
      "103\tHeider J\t0000-0001-8328-9716\n",
      "104\tStaddon J\tNULL\n",
      "105\tRawlings ND\t0000-0001-5557-7665\n",
      "106\tLima T\tNULL\n",
      "107\tAdamkewicz J\tNULL\n",
      "108\tMarshall M\tNULL\n",
      "109\tLOAD\tNULL\n",
      "110\tEgelhoff TT\tNULL\n",
      "111\tRyazanov A\t0000-0003-2823-7774\n",
      "112\tMazumder R\t0000-0001-8823-9945\n",
      "113\tKnutson S\tNULL\n",
      "114\tJeang K\tNULL\n",
      "115\tSchwarz-Linek U\t0000-0003-0526-223X\n",
      "116\tAuchincloss A\tNULL\n",
      "117\tKim J\tNULL\n",
      "118\tReche P\t0000-0003-3966-5838\n",
      "119\tMcMahon HT\t0000-0001-8576-4541\n",
      "120\tPollington J\t0000-0002-8158-8998\n",
      "121\tWinge P\tNULL\n",
      "122\tHirsh L\t0000-0002-8215-6716\n",
      "123\tTosatto S\tNULL\n",
      "124\tWaterfield DI\t0000-0003-2885-5126\n",
      "125\tPunta M\t0000-0002-0050-0676\n",
      "126\tSuprenant KA\tNULL\n",
      "127\tCallebaut I\tNULL\n",
      "128\tHolden M\tNULL\n",
      "129\tOttolenghi C\t0000-0002-0734-344X\n",
      "130\tBarker W\tNULL\n",
      "131\tWu C\tNULL\n",
      "132\tPRINTS\tNULL\n",
      "133\tTIGRFAMs\tNULL\n",
      "134\tHughes-Davies L\t0000-0002-2698-818X\n",
      "135\tFarmer EE\t0000-0002-6572-5024\n",
      "136\tSelengut J\tNULL\n",
      "137\tBurglin T\t0000-0001-7703-7774\n",
      "138\tBouche N\t0000-0002-3800-2613\n",
      "139\tHenderson I\tNULL\n",
      "140\tSandt C\tNULL\n",
      "141\tMcNeil M\t0000-0001-7747-7745\n",
      "142\tAlbrecht M\t0000-0002-3103-9624\n",
      "143\tLott S\t0000-0003-3660-452X\n",
      "144\tSzabo Z\tNULL\n",
      "145\tSanchez-Pulido L\t0000-0002-2300-8502\n",
      "146\tAbhiman S\t0000-0003-4761-4176\n",
      "147\tKletzin A\tNULL\n",
      "148\tBasturea G\tNULL\n",
      "149\tKrauss V\t0000-0002-2868-8367\n",
      "150\tDorn R\tNULL\n",
      "151\tRiano-Pachon DM\t0000-0001-9803-3465\n",
      "152\tLaursen BS\tNULL\n",
      "153\tWigneshweraraj SR\tNULL\n",
      "154\tBuck M\tNULL\n",
      "155\tSangrador A\t0000-0001-6688-429X\n",
      "156\tGuo JH\t0000-0003-4405-3959\n",
      "157\tGlass NL\t0000-0002-4844-2890\n",
      "158\tLehmann M\tNULL\n",
      "159\tUlrich L\tNULL\n",
      "160\tZhulin IB\t0000-0002-6708-5323\n",
      "161\tGalperin MY\t0000-0002-2265-5572\n",
      "162\tAndreeva A\tNULL\n",
      "163\tMurphy T\tNULL\n",
      "164\tGarcia E\tNULL\n",
      "165\tMurzin A\tNULL\n",
      "166\tLee SC\t0000-0002-0504-0859\n",
      "167\tAndreas P\tNULL\n",
      "168\tNicot S\tNULL\n",
      "169\tBarkan A\t0000-0003-3049-2838\n",
      "170\tCarstens EB\tNULL\n",
      "171\tRainey P\t0000-0003-0879-5795\n",
      "172\tMyerscough N\tNULL\n",
      "173\tRodionov D\t0000-0002-0939-390X\n",
      "174\tMacek P\tNULL\n",
      "175\tGauthier C\tNULL\n",
      "176\tWilbrey A\t0000-0002-5399-7997\n",
      "177\tArtzt K\tNULL\n",
      "178\tMesyanzhinov VV\tNULL\n",
      "179\tWesterman BA\t0000-0002-9898-9616\n",
      "180\tPoutsma A\tNULL\n",
      "181\tSteegers E\t0000-0001-6658-9274\n",
      "182\tOudejans CBM\t0000-0003-0717-4946\n",
      "183\tAdindla S\tNULL\n",
      "184\tSzurmant H\tNULL\n",
      "185\tHyvonen M\t0000-0001-8683-4070\n",
      "186\tPietrokovski S\t0000-0001-8573-5863\n",
      "187\tMitter R\tNULL\n",
      "188\tFitzgerald S\tNULL\n",
      "189\tWilliams W\tNULL\n",
      "190\tDoliana R\t0000-0002-8324-7564\n",
      "191\tWatanabe Y\tNULL\n",
      "192\tLiu XH\tNULL\n",
      "193\tHe QY\tNULL\n",
      "194\tCollyer C\t0000-0002-6854-9310\n",
      "195\tMello LV\t0000-0002-8632-1678\n",
      "196\tMerchant S\t0000-0002-2594-509X\n",
      "197\tHargrove JL\tNULL\n",
      "198\tStogios PJ\t0000-0001-8663-1425\n",
      "200\tThanbichler M\t0000-0002-1303-1442\n",
      "201\tGroocock L\tNULL\n",
      "202\tBakolitsa C\tNULL\n",
      "203\tEbersberger I\t0000-0001-8187-9253\n",
      "204\tWu X\tNULL\n",
      "205\tLai X\tNULL\n",
      "206\tRossi R\tNULL\n",
      "207\tNovatchkova M\tNULL\n",
      "208\tSchubert WD\t0000-0003-4998-519X\n",
      "209\tMyung-il K\tNULL\n",
      "210\tGarcia Lopez E\tNULL\n",
      "211\tSchmitt HD\t0000-0001-6152-2716\n",
      "212\tRobertson H\tNULL\n",
      "213\tZwieb C\t0000-0001-5695-6675\n",
      "214\tRosenblad MA\t0000-0002-4077-7821\n",
      "215\tBorziak K\t0000-0001-8126-9690\n",
      "216\tChahwan C\tNULL\n",
      "217\tRoth A\t0000-0002-5975-0573\n",
      "218\tDaub J\t0000-0001-6022-563X\n",
      "219\tLonsdale D\tNULL\n",
      "220\tCostanzo M\tNULL\n",
      "221\tPilcher K\tNULL\n",
      "222\tVasta V\t0000-0002-8148-1795\n",
      "223\tHoof I\tNULL\n",
      "224\tBaines AJ\t0000-0003-3068-7811\n",
      "225\tHildebrand JD\t0000-0002-6173-7052\n",
      "226\tBalaji S\tNULL\n",
      "227\tHentges P\tNULL\n",
      "228\tDoherty A\t0000-0002-6370-1109\n",
      "229\tSteenbakkers P\tNULL\n",
      "230\tUrbanowicz B\tNULL\n",
      "231\tKOGs\tNULL\n",
      "232\tCOGs\tNULL\n",
      "233\tLinder T\t0000-0001-5365-0494\n",
      "234\tYang H\tNULL\n",
      "235\tThomas JH\t0000-0002-6256-4536\n",
      "236\tThorstensen T\t0000-0001-6430-3578\n",
      "237\tHartsuiker E\tNULL\n",
      "238\tBuljan M\t0000-0001-8101-8197\n",
      "239\tFushinobu S\t0000-0003-1346-6435\n",
      "240\tTolvanen M\t0000-0003-3434-7646\n",
      "241\tProtasio A\t0000-0003-1723-800X\n",
      "242\tFIGfams\tNULL\n",
      "243\tNaumoff D\tNULL\n",
      "244\tGinalski K\tNULL\n",
      "245\tGunasekaran P\t0000-0002-6852-528X\n",
      "246\tBonnefont J\tNULL\n",
      "247\tTate JG\t0000-0002-8315-6574\n",
      "248\tGalperin M\tNULL\n",
      "249\tRanganathan S\t0000-0002-8290-813X\n",
      "250\tWahls W\t0000-0002-1338-1610\n",
      "251\tAssefa S\t0000-0003-2178-533X\n",
      "252\tCooper EC\t0000-0003-3672-8442\n",
      "253\tPallas J\tNULL\n",
      "254\tGavin OL\tNULL\n",
      "255\tOvermyer K\t0000-0002-7398-3453\n",
      "256\tWouters M\t0000-0002-2121-912X\n",
      "257\tHardies SC\tNULL\n",
      "258\tGardner P\t0000-0002-7808-1213\n",
      "259\tBorovok I\t0000-0003-1602-4499\n",
      "260\tMasci AM\t0000-0003-1940-6740\n",
      "261\tZenonos ZA\t0000-0002-8646-8127\n",
      "262\tSazer S\tNULL\n",
      "263\tEllrott K\t0000-0002-6573-5900\n",
      "264\tDibrova DV\tNULL\n",
      "265\tMulkidjanian AY\t0000-0001-5844-3064\n",
      "266\tKarlin D\t0000-0002-3033-7013\n",
      "267\tAldam G\t0000-0003-3039-8438\n",
      "268\tJackson A\tNULL\n",
      "269\tFey P\tNULL\n",
      "270\tPIRSF\tNULL\n",
      "271\tNakjang S\tNULL\n",
      "272\tHirt RP\tNULL\n",
      "273\tPage R\t0000-0003-2151-8012\n",
      "274\tWeichenberger CX\t0000-0002-2176-0274\n",
      "275\tD'Osualdo A\tNULL\n",
      "276\tWahab A\t0000-0002-2730-5547\n",
      "277\tSerrano P\t0000-0001-6197-9118\n",
      "278\tGeralt M\tNULL\n",
      "279\tWuthrich K\tNULL\n",
      "280\tMohanty B\tNULL\n",
      "281\tHorst R\tNULL\n",
      "282\tGodzik A\t0000-0002-2425-852X\n",
      "283\tWoodcraft BJ\tNULL\n",
      "284\tJaroszewski L\tNULL\n",
      "285\tGreenwald J\t0000-0002-9448-4821\n",
      "286\tWoodcroft B\tNULL\n",
      "287\tStergiopoulos I\t0000-0002-2368-6119\n",
      "288\tPodbilewicz B\t0000-0002-0411-4182\n",
      "289\tHetherington K\tNULL\n",
      "290\tde Souza RF\t0000-0002-5284-4630\n",
      "291\tRask T\tNULL\n",
      "292\tDe Vivo M\t0000-0003-4022-5661\n",
      "293\tPower PM\tNULL\n",
      "294\tChang Y\t0000-0002-2418-3433\n",
      "295\tDas D\tNULL\n",
      "296\tWilliams RS\t0000-0002-4610-8397\n",
      "297\tDebuchy R\tNULL\n",
      "298\tLlagostera M\t0000-0001-8177-8321\n",
      "299\tMitchell A\t0000-0001-8655-7966\n",
      "300\tDyrka W\t0000-0002-2683-077X\n",
      "301\tUpadhyay A\tNULL\n",
      "302\tWilkins M\tNULL\n",
      "303\tHeinz E\t0000-0003-4413-3756\n",
      "304\tJeffryes M\t0000-0001-9868-6271\n",
      "305\tCrecy-Lagard V\t0000-0002-9955-3785\n",
      "306\tSmart A\t0000-0002-6965-5633\n",
      "307\tLafita A\t0000-0003-1549-3162\n",
      "309\tPotts J\tNULL\n",
      "316\tPaladin L\tNULL\n",
      "317\tWhelan F\t0000-0002-0791-6850\n",
      "318\tPaladin L\t0000-0003-0011-9397\n",
      "319\tBeja O\tNULL\n",
      "320\tPiovesan D\t0000-0001-8210-2390\n",
      "321\tChuguransky S\t0000-0002-0520-0736\n",
      "322\tCock JM\t0000-0002-2650-0383\n",
      "325\tMoenttinen H\t0000-0003-2461-0690\n",
      "326\tWilliams LS\t0000-0001-5551-8526\n",
      "327\tFragoso S\t0000-0001-7018-3891\n",
      "328\tBrahma R\t0000-0003-1802-3430\n",
      "329\tMontero H\t0000-0001-8590-6394\n",
      "330\tBellieny-Rabelo D\t0000-0003-2544-7899\n",
      "331\tLapin D\t0000-0001-9591-3950\n",
      "332\tBhandari DD\t0000-0002-7666-6410\n",
      "333\tVarrot A\t0000-0001-6667-8162\n",
      "335\tWang M\t0000-0001-5201-0655\n",
      "336\tBrangulis K\t0000-0003-0757-7462\n",
      "337\tWuster A\t0000-0003-4162-5931\n",
      "338\tMayer C\t0000-0003-4731-4851\n",
      "339\tPfeiffer F\t0000-0003-4691-3246\n",
      "341\tDavey NE\t0000-0001-6988-4850\n",
      "342\tWerner ER\t0000-0003-1948-3391\n",
      "343\tPrice M\t0000-0002-4251-0362\n",
      "344\tMonzon V\t0000-0001-7125-6212\n",
      "345\tSnel B\t0000-0002-5804-8547\n",
      "346\tRivard N\t0000-0003-3764-5438\n",
      "347\tPaysan-Lafosse T\t0000-0001-5663-0894\n",
      "348\t0000-0002-6982-4660\tNULL\n",
      "349\tNishii K\t0000-0001-8141-8908\n",
      "350\tMoeller M\tNULL\n",
      "351\tIida H\t0000-0002-3986-2615\n",
      "352\tBarringer R\t0000-0002-0948-3761\n",
      "353\tMartin R\t0000-0002-4507-915X\n",
      "354\tMa S\t0000-0003-3954-9327\n",
      "355\tBioteau A\t0000-0003-0284-4891\n",
      "356\tGumerov V\t0000-0003-1670-7679\n",
      "357\tKovalev K\t0000-0002-2229-181X\n",
      "358\tHameleers L\t0000-0002-8132-3500\n",
      "359\tFaure R\t0000-0002-5107-9009\n",
      "360\tTerrapon N\t0000-0002-3693-6017\n",
      "361\tHakulinen N\t0000-0003-4471-7188\n",
      "362\tDeuss P\t0000-0002-2254-2500\n",
      "363\tMaster E\t0000-0002-6837-9817\n",
      "364\tJurak E\t0000-0003-4253-4556\n",
      "\n"
     ]
    }
   ],
   "source": [
    "with open('author.txt', 'r') as f:#\n",
    "    file = f.read()\n",
    "\n",
    "print(file)"
   ]
  },
  {
   "cell_type": "code",
   "execution_count": null,
   "id": "8c99f84b",
   "metadata": {
    "slideshow": {
     "slide_type": "skip"
    }
   },
   "outputs": [],
   "source": []
  }
 ],
 "metadata": {
  "celltoolbar": "Slideshow",
  "kernelspec": {
   "display_name": "biodb_2022",
   "language": "python",
   "name": "biodb_2022"
  },
  "language_info": {
   "codemirror_mode": {
    "name": "ipython",
    "version": 3
   },
   "file_extension": ".py",
   "mimetype": "text/x-python",
   "name": "python",
   "nbconvert_exporter": "python",
   "pygments_lexer": "ipython3",
   "version": "3.10.1"
  }
 },
 "nbformat": 4,
 "nbformat_minor": 5
}
