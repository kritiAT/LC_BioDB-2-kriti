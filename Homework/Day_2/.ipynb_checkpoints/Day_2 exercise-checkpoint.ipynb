{
 "cells": [
  {
   "cell_type": "markdown",
   "id": "c13c3151",
   "metadata": {},
   "source": [
    "# Day 2 exercise\n",
    "\n",
    "15.03.2022"
   ]
  },
  {
   "cell_type": "code",
   "execution_count": 1,
   "id": "0b583283",
   "metadata": {
    "slideshow": {
     "slide_type": "skip"
    }
   },
   "outputs": [
    {
     "data": {
      "text/plain": [
       "'C:\\\\Users\\\\kriti\\\\AppData\\\\Local\\\\Programs\\\\Python\\\\Python310\\\\Scripts\\\\biodb_2022\\\\Scripts'"
      ]
     },
     "execution_count": 1,
     "metadata": {},
     "output_type": "execute_result"
    }
   ],
   "source": [
    "import os\n",
    "\n",
    "os.getcwd()"
   ]
  },
  {
   "cell_type": "code",
   "execution_count": 8,
   "id": "190f37c2",
   "metadata": {},
   "outputs": [],
   "source": [
    "%load_ext sql\n",
    "\n",
    "%sql sqlite:///example.db"
   ]
  },
  {
   "cell_type": "code",
   "execution_count": 10,
   "id": "7212c76c",
   "metadata": {},
   "outputs": [
    {
     "name": "stdout",
     "output_type": "stream",
     "text": [
      " * sqlite:///example.db\n",
      "Done.\n"
     ]
    },
    {
     "data": {
      "text/plain": [
       "[]"
      ]
     },
     "execution_count": 10,
     "metadata": {},
     "output_type": "execute_result"
    }
   ],
   "source": [
    "%%sql\n",
    "CREATE TABLE test_table (a INTEGER, b VARCHAR);\n"
   ]
  },
  {
   "cell_type": "code",
   "execution_count": 12,
   "id": "2f318421",
   "metadata": {},
   "outputs": [
    {
     "name": "stdout",
     "output_type": "stream",
     "text": [
      " * sqlite:///example.db\n",
      "1 rows affected.\n",
      "1 rows affected.\n",
      "1 rows affected.\n"
     ]
    },
    {
     "data": {
      "text/plain": [
       "[]"
      ]
     },
     "execution_count": 12,
     "metadata": {},
     "output_type": "execute_result"
    }
   ],
   "source": [
    "%%sql\n",
    "Insert into test_table values (2, 'a');\n",
    "Insert into test_table values (3, 'b');\n",
    "Insert into test_table values (4, 'c');"
   ]
  },
  {
   "cell_type": "code",
   "execution_count": 13,
   "id": "b76b6cb4",
   "metadata": {},
   "outputs": [
    {
     "name": "stdout",
     "output_type": "stream",
     "text": [
      " * sqlite:///example.db\n",
      "Done.\n"
     ]
    },
    {
     "data": {
      "text/html": [
       "<table>\n",
       "    <tr>\n",
       "        <th>a</th>\n",
       "        <th>b</th>\n",
       "    </tr>\n",
       "    <tr>\n",
       "        <td>2</td>\n",
       "        <td>a</td>\n",
       "    </tr>\n",
       "    <tr>\n",
       "        <td>3</td>\n",
       "        <td>b</td>\n",
       "    </tr>\n",
       "    <tr>\n",
       "        <td>4</td>\n",
       "        <td>c</td>\n",
       "    </tr>\n",
       "</table>"
      ],
      "text/plain": [
       "[(2, 'a'), (3, 'b'), (4, 'c')]"
      ]
     },
     "execution_count": 13,
     "metadata": {},
     "output_type": "execute_result"
    }
   ],
   "source": [
    "%%sql\n",
    "SELECT * FROM test_table;"
   ]
  },
  {
   "cell_type": "code",
   "execution_count": 14,
   "id": "87e2d252",
   "metadata": {},
   "outputs": [],
   "source": [
    "# Data\n",
    "\n",
    "header = ['Complexes', \n",
    "          'Binding energy (kcal/mol)', \n",
    "          'H-bond Donor/acceptor (0, 20, 40, 60, 80 and 100 ns)', \n",
    "          'Number of H-bond Donor/acceptor', \n",
    "          'H-bond Interactions (Interacting residues) (0, 20, 40, 60, 80 and 100 ns)'\n",
    "]\n",
    "\n",
    "data = [\n",
    "    ('ACE2_Paritaprevir', -11.2, '0 ns', 4, 'Asn 394, Asp 206, Lys 562, Gln 102'),\n",
    "    ('ACE2_Paritaprevir', -11.2, '20 ns', 2, 'Lys 562, Asp 206'),\n",
    "    ('ACE2_Paritaprevir', -11.2, '40 ns', 3, 'Lys 562, Asp 206, Gly 104'),\n",
    "    ('ACE2_Paritaprevir', -11.2, '60 ns', 4, 'Lys 562, Asp 206, Gly 104, Asn 103'),\n",
    "    ('ACE2_Paritaprevir', -11.2, '80 ns', 3, 'Lys 562, Asp 206, Asn 103'),\n",
    "    ('ACE2_Paritaprevir', -11.2, '100 ns', 4., 'Lys 562, Asp 206, Gly 104, Asn 103'),\n",
    "    ('ACE2_Ledipasvir', -11., '0 ns', 3, 'Lys 441, His 378, Glu 402'),\n",
    "    ('ACE2_Ledipasvir', -11., '20 ns', 1, 'Lys 441'),\n",
    "    ('ACE2_Ledipasvir', -11., '40 ns', 2, 'Lys 441, Ile 291'),\n",
    "    ('ACE2_Ledipasvir', -11., '60 ns', 2, 'Lys 441, Arg 273'),\n",
    "    ('ACE2_Ledipasvir', -11., '80 ns', 2, 'Lys 441, Arg 273'),\n",
    "    ('ACE2_Ledipasvir', -11., '100 ns', 4, 'Lys 441, Arg 273, His 345, His 505'),\n",
    "]"
   ]
  },
  {
   "cell_type": "code",
   "execution_count": 36,
   "id": "cefc54d7",
   "metadata": {},
   "outputs": [],
   "source": [
    "data = [\n",
    "    ('ACE2_Paritaprevir', -11.2, '0 ns', 'Asn 394, Asp 206, Lys 562, Gln 102'),\n",
    "    ('ACE2_Paritaprevir', -11.2, '20 ns', 'Lys 562, Asp 206'),\n",
    "    ('ACE2_Paritaprevir', -11.2, '40 ns', 'Lys 562, Asp 206, Gly 104'),\n",
    "    ('ACE2_Paritaprevir', -11.2, '60 ns', 'Lys 562, Asp 206, Gly 104, Asn 103'),\n",
    "    ('ACE2_Paritaprevir', -11.2, '80 ns', 'Lys 562, Asp 206, Asn 103'),\n",
    "    ('ACE2_Paritaprevir', -11.2, '100 ns', 'Lys 562, Asp 206, Gly 104, Asn 103'),\n",
    "    ('ACE2_Ledipasvir', -11., '0 ns', 'Lys 441, His 378, Glu 402'),\n",
    "    ('ACE2_Ledipasvir', -11., '20 ns', 'Lys 441'),\n",
    "    ('ACE2_Ledipasvir', -11., '40 ns', 'Lys 441, Ile 291'),\n",
    "    ('ACE2_Ledipasvir', -11., '60 ns', 'Lys 441, Arg 273'),\n",
    "    ('ACE2_Ledipasvir', -11., '80 ns', 'Lys 441, Arg 273'),\n",
    "    ('ACE2_Ledipasvir', -11., '100 ns', 'Lys 441, Arg 273, His 345, His 505'),\n",
    "]"
   ]
  },
  {
   "cell_type": "code",
   "execution_count": 37,
   "id": "177c2e8d",
   "metadata": {},
   "outputs": [
    {
     "name": "stdout",
     "output_type": "stream",
     "text": [
      "('ACE2_Paritaprevir', -11.2, '0 ns', 'Asn 394, Asp 206, Lys 562, Gln 102') : 4\n",
      "('ACE2_Paritaprevir', -11.2, '20 ns', 'Lys 562, Asp 206') : 2\n",
      "('ACE2_Paritaprevir', -11.2, '40 ns', 'Lys 562, Asp 206, Gly 104') : 3\n",
      "('ACE2_Paritaprevir', -11.2, '60 ns', 'Lys 562, Asp 206, Gly 104, Asn 103') : 4\n",
      "('ACE2_Paritaprevir', -11.2, '80 ns', 'Lys 562, Asp 206, Asn 103') : 3\n",
      "('ACE2_Paritaprevir', -11.2, '100 ns', 'Lys 562, Asp 206, Gly 104, Asn 103') : 4\n",
      "('ACE2_Ledipasvir', -11.0, '0 ns', 'Lys 441, His 378, Glu 402') : 3\n",
      "('ACE2_Ledipasvir', -11.0, '20 ns', 'Lys 441') : 1\n",
      "('ACE2_Ledipasvir', -11.0, '40 ns', 'Lys 441, Ile 291') : 2\n",
      "('ACE2_Ledipasvir', -11.0, '60 ns', 'Lys 441, Arg 273') : 2\n",
      "('ACE2_Ledipasvir', -11.0, '80 ns', 'Lys 441, Arg 273') : 2\n",
      "('ACE2_Ledipasvir', -11.0, '100 ns', 'Lys 441, Arg 273, His 345, His 505') : 4\n"
     ]
    }
   ],
   "source": [
    "for i in data:\n",
    "    interactions = i[-1]\n",
    "    h_num = len(interactions.split(','))\n",
    "    print(i, ':', h_num)"
   ]
  },
  {
   "cell_type": "code",
   "execution_count": null,
   "id": "1663b959",
   "metadata": {},
   "outputs": [],
   "source": []
  },
  {
   "cell_type": "code",
   "execution_count": null,
   "id": "a37eff22",
   "metadata": {},
   "outputs": [],
   "source": []
  },
  {
   "cell_type": "code",
   "execution_count": 15,
   "id": "149b3192",
   "metadata": {},
   "outputs": [
    {
     "name": "stdout",
     "output_type": "stream",
     "text": [
      " * sqlite:///example.db\n",
      "Done.\n"
     ]
    },
    {
     "data": {
      "text/plain": [
       "[]"
      ]
     },
     "execution_count": 15,
     "metadata": {},
     "output_type": "execute_result"
    }
   ],
   "source": [
    "%%sql\n",
    "CREATE TABLE docking (complexes VARCHAR,\n",
    "                      binding_energy INTEGER,\n",
    "                      h_bond VARCHAR, \n",
    "                      num_h_bond INTEGER, \n",
    "                      interactions VARCHAR);"
   ]
  },
  {
   "cell_type": "code",
   "execution_count": 23,
   "id": "73e417e8",
   "metadata": {},
   "outputs": [
    {
     "name": "stdout",
     "output_type": "stream",
     "text": [
      " * sqlite:///example.db\n",
      "1 rows affected.\n",
      "1 rows affected.\n",
      "1 rows affected.\n",
      "1 rows affected.\n",
      "1 rows affected.\n",
      "1 rows affected.\n",
      "1 rows affected.\n",
      "1 rows affected.\n",
      "1 rows affected.\n",
      "1 rows affected.\n",
      "1 rows affected.\n",
      "1 rows affected.\n"
     ]
    },
    {
     "data": {
      "text/plain": [
       "[]"
      ]
     },
     "execution_count": 23,
     "metadata": {},
     "output_type": "execute_result"
    }
   ],
   "source": [
    "%%sql\n",
    "Insert into docking values ('ACE2_Paritaprevir', -11.2, '0 ns', 4, 'Asn 394, Asp 206, Lys 562, Gln 102');\n",
    "Insert into docking values ('ACE2_Paritaprevir', -11.2, '20 ns', 2, 'Lys 562, Asp 206');\n",
    "Insert into docking values ('ACE2_Paritaprevir', -11.2, '40 ns', 3, 'Lys 562, Asp 206, Gly 104');\n",
    "Insert into docking values ('ACE2_Paritaprevir', -11.2, '60 ns', 4, 'Lys 562, Asp 206, Gly 104, Asn 103');\n",
    "Insert into docking values ('ACE2_Paritaprevir', -11.2, '80 ns', 3, 'Lys 562, Asp 206, Asn 103');\n",
    "Insert into docking values ('ACE2_Paritaprevir', -11.2, '100 ns', 4., 'Lys 562, Asp 206, Gly 104, Asn 103');\n",
    "Insert into docking values ('ACE2_Ledipasvir', -11., '0 ns', 3, 'Lys 441, His 378, Glu 402');\n",
    "Insert into docking values ('ACE2_Ledipasvir', -11., '20 ns', 1, 'Lys 441');\n",
    "Insert into docking values ('ACE2_Ledipasvir', -11., '40 ns', 2, 'Lys 441, Ile 291');\n",
    "Insert into docking values ('ACE2_Ledipasvir', -11., '60 ns', 2, 'Lys 441, Arg 273');\n",
    "Insert into docking values ('ACE2_Ledipasvir', -11., '80 ns', 2, 'Lys 441, Arg 273');\n",
    "Insert into docking values ('ACE2_Ledipasvir', -11., '100 ns', 4, 'Lys 441, Arg 273, His 345, His 505');"
   ]
  },
  {
   "cell_type": "code",
   "execution_count": 24,
   "id": "27c93c5a",
   "metadata": {},
   "outputs": [
    {
     "name": "stdout",
     "output_type": "stream",
     "text": [
      " * sqlite:///example.db\n",
      "Done.\n"
     ]
    },
    {
     "data": {
      "text/html": [
       "<table>\n",
       "    <tr>\n",
       "        <th>complexes</th>\n",
       "        <th>binding_energy</th>\n",
       "        <th>h_bond</th>\n",
       "        <th>num_h_bond</th>\n",
       "        <th>interactions</th>\n",
       "    </tr>\n",
       "    <tr>\n",
       "        <td>ACE2_Paritaprevir</td>\n",
       "        <td>-11.2</td>\n",
       "        <td>0 ns</td>\n",
       "        <td>4</td>\n",
       "        <td>Asn 394, Asp 206, Lys 562, Gln 102</td>\n",
       "    </tr>\n",
       "    <tr>\n",
       "        <td>ACE2_Paritaprevir</td>\n",
       "        <td>-11.2</td>\n",
       "        <td>20 ns</td>\n",
       "        <td>2</td>\n",
       "        <td>Lys 562, Asp 206</td>\n",
       "    </tr>\n",
       "    <tr>\n",
       "        <td>ACE2_Paritaprevir</td>\n",
       "        <td>-11.2</td>\n",
       "        <td>40 ns</td>\n",
       "        <td>3</td>\n",
       "        <td>Lys 562, Asp 206, Gly 104</td>\n",
       "    </tr>\n",
       "    <tr>\n",
       "        <td>ACE2_Paritaprevir</td>\n",
       "        <td>-11.2</td>\n",
       "        <td>60 ns</td>\n",
       "        <td>4</td>\n",
       "        <td>Lys 562, Asp 206, Gly 104, Asn 103</td>\n",
       "    </tr>\n",
       "    <tr>\n",
       "        <td>ACE2_Paritaprevir</td>\n",
       "        <td>-11.2</td>\n",
       "        <td>80 ns</td>\n",
       "        <td>3</td>\n",
       "        <td>Lys 562, Asp 206, Asn 103</td>\n",
       "    </tr>\n",
       "    <tr>\n",
       "        <td>ACE2_Paritaprevir</td>\n",
       "        <td>-11.2</td>\n",
       "        <td>100 ns</td>\n",
       "        <td>4</td>\n",
       "        <td>Lys 562, Asp 206, Gly 104, Asn 103</td>\n",
       "    </tr>\n",
       "    <tr>\n",
       "        <td>ACE2_Ledipasvir</td>\n",
       "        <td>-11</td>\n",
       "        <td>0 ns</td>\n",
       "        <td>3</td>\n",
       "        <td>Lys 441, His 378, Glu 402</td>\n",
       "    </tr>\n",
       "    <tr>\n",
       "        <td>ACE2_Ledipasvir</td>\n",
       "        <td>-11</td>\n",
       "        <td>20 ns</td>\n",
       "        <td>1</td>\n",
       "        <td>Lys 441</td>\n",
       "    </tr>\n",
       "    <tr>\n",
       "        <td>ACE2_Ledipasvir</td>\n",
       "        <td>-11</td>\n",
       "        <td>40 ns</td>\n",
       "        <td>2</td>\n",
       "        <td>Lys 441, Ile 291</td>\n",
       "    </tr>\n",
       "    <tr>\n",
       "        <td>ACE2_Ledipasvir</td>\n",
       "        <td>-11</td>\n",
       "        <td>60 ns</td>\n",
       "        <td>2</td>\n",
       "        <td>Lys 441, Arg 273</td>\n",
       "    </tr>\n",
       "    <tr>\n",
       "        <td>ACE2_Ledipasvir</td>\n",
       "        <td>-11</td>\n",
       "        <td>80 ns</td>\n",
       "        <td>2</td>\n",
       "        <td>Lys 441, Arg 273</td>\n",
       "    </tr>\n",
       "    <tr>\n",
       "        <td>ACE2_Ledipasvir</td>\n",
       "        <td>-11</td>\n",
       "        <td>100 ns</td>\n",
       "        <td>4</td>\n",
       "        <td>Lys 441, Arg 273, His 345, His 505</td>\n",
       "    </tr>\n",
       "</table>"
      ],
      "text/plain": [
       "[('ACE2_Paritaprevir', -11.2, '0 ns', 4, 'Asn 394, Asp 206, Lys 562, Gln 102'),\n",
       " ('ACE2_Paritaprevir', -11.2, '20 ns', 2, 'Lys 562, Asp 206'),\n",
       " ('ACE2_Paritaprevir', -11.2, '40 ns', 3, 'Lys 562, Asp 206, Gly 104'),\n",
       " ('ACE2_Paritaprevir', -11.2, '60 ns', 4, 'Lys 562, Asp 206, Gly 104, Asn 103'),\n",
       " ('ACE2_Paritaprevir', -11.2, '80 ns', 3, 'Lys 562, Asp 206, Asn 103'),\n",
       " ('ACE2_Paritaprevir', -11.2, '100 ns', 4, 'Lys 562, Asp 206, Gly 104, Asn 103'),\n",
       " ('ACE2_Ledipasvir', -11, '0 ns', 3, 'Lys 441, His 378, Glu 402'),\n",
       " ('ACE2_Ledipasvir', -11, '20 ns', 1, 'Lys 441'),\n",
       " ('ACE2_Ledipasvir', -11, '40 ns', 2, 'Lys 441, Ile 291'),\n",
       " ('ACE2_Ledipasvir', -11, '60 ns', 2, 'Lys 441, Arg 273'),\n",
       " ('ACE2_Ledipasvir', -11, '80 ns', 2, 'Lys 441, Arg 273'),\n",
       " ('ACE2_Ledipasvir', -11, '100 ns', 4, 'Lys 441, Arg 273, His 345, His 505')]"
      ]
     },
     "execution_count": 24,
     "metadata": {},
     "output_type": "execute_result"
    }
   ],
   "source": [
    "%%sql\n",
    "SELECT * FROM docking;"
   ]
  },
  {
   "cell_type": "code",
   "execution_count": 25,
   "id": "772b6e13",
   "metadata": {},
   "outputs": [
    {
     "name": "stdout",
     "output_type": "stream",
     "text": [
      " * sqlite:///example.db\n",
      "Done.\n"
     ]
    },
    {
     "data": {
      "text/html": [
       "<table>\n",
       "    <tr>\n",
       "        <th>complexes</th>\n",
       "        <th>binding_energy</th>\n",
       "        <th>h_bond</th>\n",
       "        <th>num_h_bond</th>\n",
       "        <th>interactions</th>\n",
       "    </tr>\n",
       "    <tr>\n",
       "        <td>ACE2_Paritaprevir</td>\n",
       "        <td>-11.2</td>\n",
       "        <td>0 ns</td>\n",
       "        <td>4</td>\n",
       "        <td>Asn 394, Asp 206, Lys 562, Gln 102</td>\n",
       "    </tr>\n",
       "    <tr>\n",
       "        <td>ACE2_Paritaprevir</td>\n",
       "        <td>-11.2</td>\n",
       "        <td>20 ns</td>\n",
       "        <td>2</td>\n",
       "        <td>Lys 562, Asp 206</td>\n",
       "    </tr>\n",
       "    <tr>\n",
       "        <td>ACE2_Paritaprevir</td>\n",
       "        <td>-11.2</td>\n",
       "        <td>40 ns</td>\n",
       "        <td>3</td>\n",
       "        <td>Lys 562, Asp 206, Gly 104</td>\n",
       "    </tr>\n",
       "    <tr>\n",
       "        <td>ACE2_Paritaprevir</td>\n",
       "        <td>-11.2</td>\n",
       "        <td>60 ns</td>\n",
       "        <td>4</td>\n",
       "        <td>Lys 562, Asp 206, Gly 104, Asn 103</td>\n",
       "    </tr>\n",
       "    <tr>\n",
       "        <td>ACE2_Paritaprevir</td>\n",
       "        <td>-11.2</td>\n",
       "        <td>80 ns</td>\n",
       "        <td>3</td>\n",
       "        <td>Lys 562, Asp 206, Asn 103</td>\n",
       "    </tr>\n",
       "    <tr>\n",
       "        <td>ACE2_Paritaprevir</td>\n",
       "        <td>-11.2</td>\n",
       "        <td>100 ns</td>\n",
       "        <td>4</td>\n",
       "        <td>Lys 562, Asp 206, Gly 104, Asn 103</td>\n",
       "    </tr>\n",
       "    <tr>\n",
       "        <td>ACE2_Ledipasvir</td>\n",
       "        <td>-11</td>\n",
       "        <td>0 ns</td>\n",
       "        <td>3</td>\n",
       "        <td>Lys 441, His 378, Glu 402</td>\n",
       "    </tr>\n",
       "    <tr>\n",
       "        <td>ACE2_Ledipasvir</td>\n",
       "        <td>-11</td>\n",
       "        <td>20 ns</td>\n",
       "        <td>1</td>\n",
       "        <td>Lys 441</td>\n",
       "    </tr>\n",
       "    <tr>\n",
       "        <td>ACE2_Ledipasvir</td>\n",
       "        <td>-11</td>\n",
       "        <td>40 ns</td>\n",
       "        <td>2</td>\n",
       "        <td>Lys 441, Ile 291</td>\n",
       "    </tr>\n",
       "    <tr>\n",
       "        <td>ACE2_Ledipasvir</td>\n",
       "        <td>-11</td>\n",
       "        <td>60 ns</td>\n",
       "        <td>2</td>\n",
       "        <td>Lys 441, Arg 273</td>\n",
       "    </tr>\n",
       "    <tr>\n",
       "        <td>ACE2_Ledipasvir</td>\n",
       "        <td>-11</td>\n",
       "        <td>80 ns</td>\n",
       "        <td>2</td>\n",
       "        <td>Lys 441, Arg 273</td>\n",
       "    </tr>\n",
       "    <tr>\n",
       "        <td>ACE2_Ledipasvir</td>\n",
       "        <td>-11</td>\n",
       "        <td>100 ns</td>\n",
       "        <td>4</td>\n",
       "        <td>Lys 441, Arg 273, His 345, His 505</td>\n",
       "    </tr>\n",
       "</table>"
      ],
      "text/plain": [
       "[('ACE2_Paritaprevir', -11.2, '0 ns', 4, 'Asn 394, Asp 206, Lys 562, Gln 102'),\n",
       " ('ACE2_Paritaprevir', -11.2, '20 ns', 2, 'Lys 562, Asp 206'),\n",
       " ('ACE2_Paritaprevir', -11.2, '40 ns', 3, 'Lys 562, Asp 206, Gly 104'),\n",
       " ('ACE2_Paritaprevir', -11.2, '60 ns', 4, 'Lys 562, Asp 206, Gly 104, Asn 103'),\n",
       " ('ACE2_Paritaprevir', -11.2, '80 ns', 3, 'Lys 562, Asp 206, Asn 103'),\n",
       " ('ACE2_Paritaprevir', -11.2, '100 ns', 4, 'Lys 562, Asp 206, Gly 104, Asn 103'),\n",
       " ('ACE2_Ledipasvir', -11, '0 ns', 3, 'Lys 441, His 378, Glu 402'),\n",
       " ('ACE2_Ledipasvir', -11, '20 ns', 1, 'Lys 441'),\n",
       " ('ACE2_Ledipasvir', -11, '40 ns', 2, 'Lys 441, Ile 291'),\n",
       " ('ACE2_Ledipasvir', -11, '60 ns', 2, 'Lys 441, Arg 273'),\n",
       " ('ACE2_Ledipasvir', -11, '80 ns', 2, 'Lys 441, Arg 273'),\n",
       " ('ACE2_Ledipasvir', -11, '100 ns', 4, 'Lys 441, Arg 273, His 345, His 505')]"
      ]
     },
     "execution_count": 25,
     "metadata": {},
     "output_type": "execute_result"
    }
   ],
   "source": [
    "data_table = %sql SELECT * FROM docking;\n",
    "data_table"
   ]
  },
  {
   "cell_type": "code",
   "execution_count": 30,
   "id": "0fbd3379",
   "metadata": {},
   "outputs": [
    {
     "data": {
      "text/html": [
       "<div>\n",
       "<style scoped>\n",
       "    .dataframe tbody tr th:only-of-type {\n",
       "        vertical-align: middle;\n",
       "    }\n",
       "\n",
       "    .dataframe tbody tr th {\n",
       "        vertical-align: top;\n",
       "    }\n",
       "\n",
       "    .dataframe thead th {\n",
       "        text-align: right;\n",
       "    }\n",
       "</style>\n",
       "<table border=\"1\" class=\"dataframe\">\n",
       "  <thead>\n",
       "    <tr style=\"text-align: right;\">\n",
       "      <th></th>\n",
       "      <th>complexes</th>\n",
       "      <th>binding_energy</th>\n",
       "      <th>h_bond</th>\n",
       "      <th>num_h_bond</th>\n",
       "      <th>interactions</th>\n",
       "    </tr>\n",
       "  </thead>\n",
       "  <tbody>\n",
       "    <tr>\n",
       "      <th>0</th>\n",
       "      <td>ACE2_Paritaprevir</td>\n",
       "      <td>-11.2</td>\n",
       "      <td>0 ns</td>\n",
       "      <td>4</td>\n",
       "      <td>Asn 394, Asp 206, Lys 562, Gln 102</td>\n",
       "    </tr>\n",
       "    <tr>\n",
       "      <th>1</th>\n",
       "      <td>ACE2_Paritaprevir</td>\n",
       "      <td>-11.2</td>\n",
       "      <td>20 ns</td>\n",
       "      <td>2</td>\n",
       "      <td>Lys 562, Asp 206</td>\n",
       "    </tr>\n",
       "    <tr>\n",
       "      <th>2</th>\n",
       "      <td>ACE2_Paritaprevir</td>\n",
       "      <td>-11.2</td>\n",
       "      <td>40 ns</td>\n",
       "      <td>3</td>\n",
       "      <td>Lys 562, Asp 206, Gly 104</td>\n",
       "    </tr>\n",
       "    <tr>\n",
       "      <th>3</th>\n",
       "      <td>ACE2_Paritaprevir</td>\n",
       "      <td>-11.2</td>\n",
       "      <td>60 ns</td>\n",
       "      <td>4</td>\n",
       "      <td>Lys 562, Asp 206, Gly 104, Asn 103</td>\n",
       "    </tr>\n",
       "    <tr>\n",
       "      <th>4</th>\n",
       "      <td>ACE2_Paritaprevir</td>\n",
       "      <td>-11.2</td>\n",
       "      <td>80 ns</td>\n",
       "      <td>3</td>\n",
       "      <td>Lys 562, Asp 206, Asn 103</td>\n",
       "    </tr>\n",
       "    <tr>\n",
       "      <th>5</th>\n",
       "      <td>ACE2_Paritaprevir</td>\n",
       "      <td>-11.2</td>\n",
       "      <td>100 ns</td>\n",
       "      <td>4</td>\n",
       "      <td>Lys 562, Asp 206, Gly 104, Asn 103</td>\n",
       "    </tr>\n",
       "    <tr>\n",
       "      <th>6</th>\n",
       "      <td>ACE2_Ledipasvir</td>\n",
       "      <td>-11.0</td>\n",
       "      <td>0 ns</td>\n",
       "      <td>3</td>\n",
       "      <td>Lys 441, His 378, Glu 402</td>\n",
       "    </tr>\n",
       "    <tr>\n",
       "      <th>7</th>\n",
       "      <td>ACE2_Ledipasvir</td>\n",
       "      <td>-11.0</td>\n",
       "      <td>20 ns</td>\n",
       "      <td>1</td>\n",
       "      <td>Lys 441</td>\n",
       "    </tr>\n",
       "    <tr>\n",
       "      <th>8</th>\n",
       "      <td>ACE2_Ledipasvir</td>\n",
       "      <td>-11.0</td>\n",
       "      <td>40 ns</td>\n",
       "      <td>2</td>\n",
       "      <td>Lys 441, Ile 291</td>\n",
       "    </tr>\n",
       "    <tr>\n",
       "      <th>9</th>\n",
       "      <td>ACE2_Ledipasvir</td>\n",
       "      <td>-11.0</td>\n",
       "      <td>60 ns</td>\n",
       "      <td>2</td>\n",
       "      <td>Lys 441, Arg 273</td>\n",
       "    </tr>\n",
       "    <tr>\n",
       "      <th>10</th>\n",
       "      <td>ACE2_Ledipasvir</td>\n",
       "      <td>-11.0</td>\n",
       "      <td>80 ns</td>\n",
       "      <td>2</td>\n",
       "      <td>Lys 441, Arg 273</td>\n",
       "    </tr>\n",
       "    <tr>\n",
       "      <th>11</th>\n",
       "      <td>ACE2_Ledipasvir</td>\n",
       "      <td>-11.0</td>\n",
       "      <td>100 ns</td>\n",
       "      <td>4</td>\n",
       "      <td>Lys 441, Arg 273, His 345, His 505</td>\n",
       "    </tr>\n",
       "  </tbody>\n",
       "</table>\n",
       "</div>"
      ],
      "text/plain": [
       "            complexes  binding_energy  h_bond  num_h_bond  \\\n",
       "0   ACE2_Paritaprevir           -11.2    0 ns           4   \n",
       "1   ACE2_Paritaprevir           -11.2   20 ns           2   \n",
       "2   ACE2_Paritaprevir           -11.2   40 ns           3   \n",
       "3   ACE2_Paritaprevir           -11.2   60 ns           4   \n",
       "4   ACE2_Paritaprevir           -11.2   80 ns           3   \n",
       "5   ACE2_Paritaprevir           -11.2  100 ns           4   \n",
       "6     ACE2_Ledipasvir           -11.0    0 ns           3   \n",
       "7     ACE2_Ledipasvir           -11.0   20 ns           1   \n",
       "8     ACE2_Ledipasvir           -11.0   40 ns           2   \n",
       "9     ACE2_Ledipasvir           -11.0   60 ns           2   \n",
       "10    ACE2_Ledipasvir           -11.0   80 ns           2   \n",
       "11    ACE2_Ledipasvir           -11.0  100 ns           4   \n",
       "\n",
       "                          interactions  \n",
       "0   Asn 394, Asp 206, Lys 562, Gln 102  \n",
       "1                     Lys 562, Asp 206  \n",
       "2            Lys 562, Asp 206, Gly 104  \n",
       "3   Lys 562, Asp 206, Gly 104, Asn 103  \n",
       "4            Lys 562, Asp 206, Asn 103  \n",
       "5   Lys 562, Asp 206, Gly 104, Asn 103  \n",
       "6            Lys 441, His 378, Glu 402  \n",
       "7                              Lys 441  \n",
       "8                     Lys 441, Ile 291  \n",
       "9                     Lys 441, Arg 273  \n",
       "10                    Lys 441, Arg 273  \n",
       "11  Lys 441, Arg 273, His 345, His 505  "
      ]
     },
     "execution_count": 30,
     "metadata": {},
     "output_type": "execute_result"
    }
   ],
   "source": [
    "tab = data_table.DataFrame()\n",
    "tab"
   ]
  },
  {
   "cell_type": "code",
   "execution_count": null,
   "id": "06ab59c4",
   "metadata": {},
   "outputs": [],
   "source": []
  }
 ],
 "metadata": {
  "celltoolbar": "Slideshow",
  "kernelspec": {
   "display_name": "biodb_2022",
   "language": "python",
   "name": "biodb_2022"
  },
  "language_info": {
   "codemirror_mode": {
    "name": "ipython",
    "version": 3
   },
   "file_extension": ".py",
   "mimetype": "text/x-python",
   "name": "python",
   "nbconvert_exporter": "python",
   "pygments_lexer": "ipython3",
   "version": "3.10.1"
  },
  "toc": {
   "base_numbering": 1,
   "nav_menu": {},
   "number_sections": true,
   "sideBar": true,
   "skip_h1_title": false,
   "title_cell": "Table of Contents",
   "title_sidebar": "Contents",
   "toc_cell": false,
   "toc_position": {},
   "toc_section_display": true,
   "toc_window_display": false
  }
 },
 "nbformat": 4,
 "nbformat_minor": 5
}
