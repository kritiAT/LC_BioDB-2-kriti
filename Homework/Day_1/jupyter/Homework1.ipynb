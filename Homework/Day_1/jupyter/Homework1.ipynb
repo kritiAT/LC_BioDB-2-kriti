{
 "cells": [
  {
   "cell_type": "markdown",
   "id": "8e8f46a4",
   "metadata": {
    "slideshow": {
     "slide_type": "slide"
    }
   },
   "source": [
    "# Homework 1\n",
    "\n",
    "### Visual Studio Code, GitLab, Markdown, Jupyter, Cookiecutter\n",
    "\n",
    "##### 15.03.2022\n",
    "\n",
    "##### Kriti Amin"
   ]
  },
  {
   "cell_type": "markdown",
   "id": "df70a62d",
   "metadata": {
    "slideshow": {
     "slide_type": "slide"
    }
   },
   "source": [
    "# Package 'first_project'\n",
    "\n",
    "- Stores animal name and year of birth\n",
    "- contains method to return animal sounds"
   ]
  },
  {
   "cell_type": "markdown",
   "id": "885a7321",
   "metadata": {
    "slideshow": {
     "slide_type": "skip"
    }
   },
   "source": [
    "os.chdir('C:\\\\Users\\\\kriti\\\\Desktop\\\\BioDB\\\\2-kriti\\\\my_first_project')\n",
    "\n",
    "os.getcwd()"
   ]
  },
  {
   "cell_type": "markdown",
   "id": "71789549",
   "metadata": {
    "slideshow": {
     "slide_type": "skip"
    }
   },
   "source": [
    "!pip install first_project/"
   ]
  },
  {
   "cell_type": "markdown",
   "id": "25a8ff98",
   "metadata": {
    "slideshow": {
     "slide_type": "skip"
    }
   },
   "source": [
    "C:\\Users\\kriti\\Desktop\\BioDB\\2-kriti\\jupyter\\"
   ]
  },
  {
   "cell_type": "code",
   "execution_count": 10,
   "id": "798c2c99",
   "metadata": {
    "slideshow": {
     "slide_type": "slide"
    }
   },
   "outputs": [],
   "source": [
    "# import package\n",
    "from first_project.first_project import Animal, Cat, Dog"
   ]
  },
  {
   "cell_type": "code",
   "execution_count": 11,
   "id": "2643b787",
   "metadata": {
    "slideshow": {
     "slide_type": "subslide"
    }
   },
   "outputs": [],
   "source": [
    "# Store objects\n",
    "dog = Dog('Coco', 2020)\n",
    "cat = Cat('Snow', 2022)"
   ]
  },
  {
   "cell_type": "code",
   "execution_count": 12,
   "id": "f0e88c80",
   "metadata": {
    "slideshow": {
     "slide_type": "subslide"
    }
   },
   "outputs": [
    {
     "name": "stdout",
     "output_type": "stream",
     "text": [
      "Woof Woof!!\n",
      "Animal name : Coco\n",
      "Animal year : 2020\n",
      "\n",
      "Meow!!\n",
      "Animal name : Snow\n",
      "Animal year : 2022\n",
      "\n"
     ]
    }
   ],
   "source": [
    "for animal in [dog, cat]:\n",
    "    print(animal.say_hello())\n",
    "    print(f'Animal name : {animal.name}')\n",
    "    print(f'Animal year : {animal.year}')\n",
    "    print()"
   ]
  },
  {
   "cell_type": "markdown",
   "id": "566103cf",
   "metadata": {
    "slideshow": {
     "slide_type": "slide"
    }
   },
   "source": [
    "# End of Task\n",
    "\n"
   ]
  },
  {
   "cell_type": "code",
   "execution_count": null,
   "id": "90d3f124",
   "metadata": {},
   "outputs": [],
   "source": []
  }
 ],
 "metadata": {
  "celltoolbar": "Slideshow",
  "kernelspec": {
   "display_name": "biodb_2022",
   "language": "python",
   "name": "biodb_2022"
  },
  "language_info": {
   "codemirror_mode": {
    "name": "ipython",
    "version": 3
   },
   "file_extension": ".py",
   "mimetype": "text/x-python",
   "name": "python",
   "nbconvert_exporter": "python",
   "pygments_lexer": "ipython3",
   "version": "3.10.1"
  }
 },
 "nbformat": 4,
 "nbformat_minor": 5
}
